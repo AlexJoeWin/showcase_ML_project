{
 "cells": [
  {
   "cell_type": "code",
   "execution_count": 1,
   "id": "bb87dcda-b1ed-4c13-b7a6-77aa46877cde",
   "metadata": {
    "jupyter": {
     "is_executing": true
    }
   },
   "outputs": [],
   "source": [
    "#----------------------------------------------------------------------------------------------------------------------------------\n",
    "\n",
    "# Classification of credit card transactions as either \"approved\" or \"fraudulent\".\n",
    "# Data wrangling and application of supervised learning techniques to find the best model and parameters.\n",
    "# The target variable is the last column of the DataFrame: \"+\" -> approved // \"-\" -> fraudulent.\n",
    "\n",
    "#----------------------------------------------------------------------------------------------------------------------------------"
   ]
  },
  {
   "cell_type": "code",
   "execution_count": 2,
   "id": "a6d9fa0e-aea6-4315-9d77-77e9f38acf66",
   "metadata": {},
   "outputs": [],
   "source": [
    "# import of all required libaries & data; first inspection"
   ]
  },
  {
   "cell_type": "code",
   "execution_count": 3,
   "id": "1fe23788-07ec-475d-bef1-33ad048496d7",
   "metadata": {
    "jupyter": {
     "is_executing": true
    }
   },
   "outputs": [],
   "source": [
    "import pandas as pd\n",
    "import numpy as np\n",
    "import matplotlib.pyplot as plt\n",
    "import seaborn as sns"
   ]
  },
  {
   "cell_type": "code",
   "execution_count": 4,
   "id": "5bb68bc8-479e-4e97-a666-f7351df22ac6",
   "metadata": {},
   "outputs": [],
   "source": [
    "data = pd.read_csv(\"cc_approvals.data\")"
   ]
  },
  {
   "cell_type": "code",
   "execution_count": 5,
   "id": "1d0f1c72-ce5a-4308-a778-64a1803419ad",
   "metadata": {},
   "outputs": [
    {
     "name": "stdout",
     "output_type": "stream",
     "text": [
      "<class 'pandas.core.frame.DataFrame'>\n",
      "RangeIndex: 689 entries, 0 to 688\n",
      "Data columns (total 14 columns):\n",
      " #   Column  Non-Null Count  Dtype  \n",
      "---  ------  --------------  -----  \n",
      " 0   b       689 non-null    object \n",
      " 1   30.83   689 non-null    object \n",
      " 2   0.0     689 non-null    float64\n",
      " 3   u       689 non-null    object \n",
      " 4   g       689 non-null    object \n",
      " 5   w       689 non-null    object \n",
      " 6   v       689 non-null    object \n",
      " 7   1.25    689 non-null    float64\n",
      " 8   t       689 non-null    object \n",
      " 9   t.1     689 non-null    object \n",
      " 10  1       689 non-null    int64  \n",
      " 11  g.1     689 non-null    object \n",
      " 12  0       689 non-null    int64  \n",
      " 13  +       689 non-null    object \n",
      "dtypes: float64(2), int64(2), object(10)\n",
      "memory usage: 75.5+ KB\n",
      "None \n",
      "\n"
     ]
    },
    {
     "data": {
      "text/html": [
       "<div>\n",
       "<style scoped>\n",
       "    .dataframe tbody tr th:only-of-type {\n",
       "        vertical-align: middle;\n",
       "    }\n",
       "\n",
       "    .dataframe tbody tr th {\n",
       "        vertical-align: top;\n",
       "    }\n",
       "\n",
       "    .dataframe thead th {\n",
       "        text-align: right;\n",
       "    }\n",
       "</style>\n",
       "<table border=\"1\" class=\"dataframe\">\n",
       "  <thead>\n",
       "    <tr style=\"text-align: right;\">\n",
       "      <th></th>\n",
       "      <th>b</th>\n",
       "      <th>30.83</th>\n",
       "      <th>0.0</th>\n",
       "      <th>u</th>\n",
       "      <th>g</th>\n",
       "      <th>w</th>\n",
       "      <th>v</th>\n",
       "      <th>1.25</th>\n",
       "      <th>t</th>\n",
       "      <th>t.1</th>\n",
       "      <th>1</th>\n",
       "      <th>g.1</th>\n",
       "      <th>0</th>\n",
       "      <th>+</th>\n",
       "    </tr>\n",
       "  </thead>\n",
       "  <tbody>\n",
       "    <tr>\n",
       "      <th>0</th>\n",
       "      <td>a</td>\n",
       "      <td>58.67</td>\n",
       "      <td>4.460</td>\n",
       "      <td>u</td>\n",
       "      <td>g</td>\n",
       "      <td>q</td>\n",
       "      <td>h</td>\n",
       "      <td>3.04</td>\n",
       "      <td>t</td>\n",
       "      <td>t</td>\n",
       "      <td>6</td>\n",
       "      <td>g</td>\n",
       "      <td>560</td>\n",
       "      <td>+</td>\n",
       "    </tr>\n",
       "    <tr>\n",
       "      <th>1</th>\n",
       "      <td>a</td>\n",
       "      <td>24.50</td>\n",
       "      <td>0.500</td>\n",
       "      <td>u</td>\n",
       "      <td>g</td>\n",
       "      <td>q</td>\n",
       "      <td>h</td>\n",
       "      <td>1.50</td>\n",
       "      <td>t</td>\n",
       "      <td>f</td>\n",
       "      <td>0</td>\n",
       "      <td>g</td>\n",
       "      <td>824</td>\n",
       "      <td>+</td>\n",
       "    </tr>\n",
       "    <tr>\n",
       "      <th>2</th>\n",
       "      <td>b</td>\n",
       "      <td>27.83</td>\n",
       "      <td>1.540</td>\n",
       "      <td>u</td>\n",
       "      <td>g</td>\n",
       "      <td>w</td>\n",
       "      <td>v</td>\n",
       "      <td>3.75</td>\n",
       "      <td>t</td>\n",
       "      <td>t</td>\n",
       "      <td>5</td>\n",
       "      <td>g</td>\n",
       "      <td>3</td>\n",
       "      <td>+</td>\n",
       "    </tr>\n",
       "    <tr>\n",
       "      <th>3</th>\n",
       "      <td>b</td>\n",
       "      <td>20.17</td>\n",
       "      <td>5.625</td>\n",
       "      <td>u</td>\n",
       "      <td>g</td>\n",
       "      <td>w</td>\n",
       "      <td>v</td>\n",
       "      <td>1.71</td>\n",
       "      <td>t</td>\n",
       "      <td>f</td>\n",
       "      <td>0</td>\n",
       "      <td>s</td>\n",
       "      <td>0</td>\n",
       "      <td>+</td>\n",
       "    </tr>\n",
       "    <tr>\n",
       "      <th>4</th>\n",
       "      <td>b</td>\n",
       "      <td>32.08</td>\n",
       "      <td>4.000</td>\n",
       "      <td>u</td>\n",
       "      <td>g</td>\n",
       "      <td>m</td>\n",
       "      <td>v</td>\n",
       "      <td>2.50</td>\n",
       "      <td>t</td>\n",
       "      <td>f</td>\n",
       "      <td>0</td>\n",
       "      <td>g</td>\n",
       "      <td>0</td>\n",
       "      <td>+</td>\n",
       "    </tr>\n",
       "  </tbody>\n",
       "</table>\n",
       "</div>"
      ],
      "text/plain": [
       "   b  30.83    0.0  u  g  w  v  1.25  t t.1  1 g.1    0  +\n",
       "0  a  58.67  4.460  u  g  q  h  3.04  t   t  6   g  560  +\n",
       "1  a  24.50  0.500  u  g  q  h  1.50  t   f  0   g  824  +\n",
       "2  b  27.83  1.540  u  g  w  v  3.75  t   t  5   g    3  +\n",
       "3  b  20.17  5.625  u  g  w  v  1.71  t   f  0   s    0  +\n",
       "4  b  32.08  4.000  u  g  m  v  2.50  t   f  0   g    0  +"
      ]
     },
     "execution_count": 5,
     "metadata": {},
     "output_type": "execute_result"
    }
   ],
   "source": [
    "print(data.info(),\"\\n\")\n",
    "data.head()"
   ]
  },
  {
   "cell_type": "code",
   "execution_count": 6,
   "id": "c836622f-c803-4250-83e5-02365a02a6a1",
   "metadata": {},
   "outputs": [],
   "source": [
    "# HEADERS: for more clarity headers get renamed"
   ]
  },
  {
   "cell_type": "code",
   "execution_count": 7,
   "id": "dc6b8504-4f22-484a-91c6-d5264fa697f2",
   "metadata": {},
   "outputs": [
    {
     "data": {
      "text/html": [
       "<div>\n",
       "<style scoped>\n",
       "    .dataframe tbody tr th:only-of-type {\n",
       "        vertical-align: middle;\n",
       "    }\n",
       "\n",
       "    .dataframe tbody tr th {\n",
       "        vertical-align: top;\n",
       "    }\n",
       "\n",
       "    .dataframe thead th {\n",
       "        text-align: right;\n",
       "    }\n",
       "</style>\n",
       "<table border=\"1\" class=\"dataframe\">\n",
       "  <thead>\n",
       "    <tr style=\"text-align: right;\">\n",
       "      <th></th>\n",
       "      <th>f1</th>\n",
       "      <th>f2</th>\n",
       "      <th>f3</th>\n",
       "      <th>f4</th>\n",
       "      <th>f5</th>\n",
       "      <th>f6</th>\n",
       "      <th>f7</th>\n",
       "      <th>f8</th>\n",
       "      <th>f9</th>\n",
       "      <th>f10</th>\n",
       "      <th>f11</th>\n",
       "      <th>f12</th>\n",
       "      <th>f13</th>\n",
       "      <th>target</th>\n",
       "    </tr>\n",
       "  </thead>\n",
       "  <tbody>\n",
       "    <tr>\n",
       "      <th>201</th>\n",
       "      <td>b</td>\n",
       "      <td>24.83</td>\n",
       "      <td>2.75</td>\n",
       "      <td>u</td>\n",
       "      <td>g</td>\n",
       "      <td>c</td>\n",
       "      <td>v</td>\n",
       "      <td>2.25</td>\n",
       "      <td>t</td>\n",
       "      <td>t</td>\n",
       "      <td>6</td>\n",
       "      <td>g</td>\n",
       "      <td>600</td>\n",
       "      <td>+</td>\n",
       "    </tr>\n",
       "  </tbody>\n",
       "</table>\n",
       "</div>"
      ],
      "text/plain": [
       "    f1     f2    f3 f4 f5 f6 f7    f8 f9 f10  f11 f12  f13 target\n",
       "201  b  24.83  2.75  u  g  c  v  2.25  t   t    6   g  600      +"
      ]
     },
     "execution_count": 7,
     "metadata": {},
     "output_type": "execute_result"
    }
   ],
   "source": [
    "header_list=[\"f\"+str(i) for i in range(1,data.shape[1])]\n",
    "header_list.append(\"target\")\n",
    "data.columns=header_list\n",
    "data.sample()"
   ]
  },
  {
   "cell_type": "code",
   "execution_count": 8,
   "id": "a58a0b49-e8f0-442a-9f9d-837e335bcea6",
   "metadata": {},
   "outputs": [],
   "source": [
    "# DATA TYPES"
   ]
  },
  {
   "cell_type": "code",
   "execution_count": 9,
   "id": "291895f5-8a60-46ff-9b46-96252e22a5d1",
   "metadata": {},
   "outputs": [
    {
     "name": "stdout",
     "output_type": "stream",
     "text": [
      "f1 [<class 'str'>]\n",
      "f2 [<class 'str'>]\n",
      "f3 [<class 'float'>]\n",
      "f4 [<class 'str'>]\n",
      "f5 [<class 'str'>]\n",
      "f6 [<class 'str'>]\n",
      "f7 [<class 'str'>]\n",
      "f8 [<class 'float'>]\n",
      "f9 [<class 'str'>]\n",
      "f10 [<class 'str'>]\n",
      "f11 [<class 'int'>]\n",
      "f12 [<class 'str'>]\n",
      "f13 [<class 'int'>]\n",
      "target [<class 'str'>]\n",
      "\n",
      "=> Data types across all features are consistent.\n"
     ]
    }
   ],
   "source": [
    "#double check data types\n",
    "count=0\n",
    "for c in data.columns:\n",
    "    prop=data[c].apply(type).unique()\n",
    "    print(c,prop)\n",
    "    if len(prop)>1:\n",
    "        print(f\"{c} is compromised\")\n",
    "        count+=1\n",
    "    else:\n",
    "        continue\n",
    "if count==0:\n",
    "    print(\"\\n=> Data types across all features are consistent.\")"
   ]
  },
  {
   "cell_type": "code",
   "execution_count": 10,
   "id": "e09b6de2-48ce-44a8-a539-8eccfaae73ab",
   "metadata": {},
   "outputs": [
    {
     "data": {
      "text/plain": [
       "array(['?'], dtype=object)"
      ]
     },
     "execution_count": 10,
     "metadata": {},
     "output_type": "execute_result"
    }
   ],
   "source": [
    "# converting \"f2\" into floats and identifying non-number characters\n",
    "ident_mask=pd.to_numeric(data[\"f2\"],errors=\"coerce\").isna()\n",
    "data.loc[ident_mask,\"f2\"].unique()"
   ]
  },
  {
   "cell_type": "code",
   "execution_count": 11,
   "id": "2f425d38-9fa6-49a0-9379-725276e82bbb",
   "metadata": {},
   "outputs": [
    {
     "data": {
      "text/plain": [
       "dtype('float64')"
      ]
     },
     "execution_count": 11,
     "metadata": {},
     "output_type": "execute_result"
    }
   ],
   "source": [
    "# since strings only contain \"?\" -> conversion to NaNs -> NaNs get imputed by the mean value in the ML preprocessing step\n",
    "data[\"f2\"]=pd.to_numeric(data[\"f2\"],errors=\"coerce\")\n",
    "data[\"f2\"].dtypes"
   ]
  },
  {
   "cell_type": "code",
   "execution_count": 12,
   "id": "da5b4a00-1070-4dcd-902b-ba825c212c9d",
   "metadata": {},
   "outputs": [
    {
     "data": {
      "text/html": [
       "<div>\n",
       "<style scoped>\n",
       "    .dataframe tbody tr th:only-of-type {\n",
       "        vertical-align: middle;\n",
       "    }\n",
       "\n",
       "    .dataframe tbody tr th {\n",
       "        vertical-align: top;\n",
       "    }\n",
       "\n",
       "    .dataframe thead th {\n",
       "        text-align: right;\n",
       "    }\n",
       "</style>\n",
       "<table border=\"1\" class=\"dataframe\">\n",
       "  <thead>\n",
       "    <tr style=\"text-align: right;\">\n",
       "      <th></th>\n",
       "      <th>f1</th>\n",
       "      <th>f2</th>\n",
       "      <th>f3</th>\n",
       "      <th>f4</th>\n",
       "      <th>f5</th>\n",
       "      <th>f6</th>\n",
       "      <th>f7</th>\n",
       "      <th>f8</th>\n",
       "      <th>f9</th>\n",
       "      <th>f10</th>\n",
       "      <th>f11</th>\n",
       "      <th>f12</th>\n",
       "      <th>f13</th>\n",
       "      <th>target</th>\n",
       "    </tr>\n",
       "  </thead>\n",
       "  <tbody>\n",
       "    <tr>\n",
       "      <th>82</th>\n",
       "      <td>a</td>\n",
       "      <td>NaN</td>\n",
       "      <td>3.500</td>\n",
       "      <td>u</td>\n",
       "      <td>g</td>\n",
       "      <td>d</td>\n",
       "      <td>v</td>\n",
       "      <td>3.000</td>\n",
       "      <td>t</td>\n",
       "      <td>f</td>\n",
       "      <td>0</td>\n",
       "      <td>g</td>\n",
       "      <td>0</td>\n",
       "      <td>-</td>\n",
       "    </tr>\n",
       "    <tr>\n",
       "      <th>85</th>\n",
       "      <td>b</td>\n",
       "      <td>NaN</td>\n",
       "      <td>0.375</td>\n",
       "      <td>u</td>\n",
       "      <td>g</td>\n",
       "      <td>d</td>\n",
       "      <td>v</td>\n",
       "      <td>0.875</td>\n",
       "      <td>t</td>\n",
       "      <td>f</td>\n",
       "      <td>0</td>\n",
       "      <td>s</td>\n",
       "      <td>0</td>\n",
       "      <td>-</td>\n",
       "    </tr>\n",
       "    <tr>\n",
       "      <th>91</th>\n",
       "      <td>b</td>\n",
       "      <td>NaN</td>\n",
       "      <td>5.000</td>\n",
       "      <td>y</td>\n",
       "      <td>p</td>\n",
       "      <td>aa</td>\n",
       "      <td>v</td>\n",
       "      <td>8.500</td>\n",
       "      <td>t</td>\n",
       "      <td>f</td>\n",
       "      <td>0</td>\n",
       "      <td>g</td>\n",
       "      <td>0</td>\n",
       "      <td>-</td>\n",
       "    </tr>\n",
       "    <tr>\n",
       "      <th>96</th>\n",
       "      <td>b</td>\n",
       "      <td>NaN</td>\n",
       "      <td>0.500</td>\n",
       "      <td>u</td>\n",
       "      <td>g</td>\n",
       "      <td>c</td>\n",
       "      <td>bb</td>\n",
       "      <td>0.835</td>\n",
       "      <td>t</td>\n",
       "      <td>f</td>\n",
       "      <td>0</td>\n",
       "      <td>s</td>\n",
       "      <td>0</td>\n",
       "      <td>-</td>\n",
       "    </tr>\n",
       "    <tr>\n",
       "      <th>253</th>\n",
       "      <td>b</td>\n",
       "      <td>NaN</td>\n",
       "      <td>0.625</td>\n",
       "      <td>u</td>\n",
       "      <td>g</td>\n",
       "      <td>k</td>\n",
       "      <td>v</td>\n",
       "      <td>0.250</td>\n",
       "      <td>f</td>\n",
       "      <td>f</td>\n",
       "      <td>0</td>\n",
       "      <td>g</td>\n",
       "      <td>2010</td>\n",
       "      <td>-</td>\n",
       "    </tr>\n",
       "    <tr>\n",
       "      <th>285</th>\n",
       "      <td>a</td>\n",
       "      <td>NaN</td>\n",
       "      <td>1.500</td>\n",
       "      <td>u</td>\n",
       "      <td>g</td>\n",
       "      <td>ff</td>\n",
       "      <td>ff</td>\n",
       "      <td>0.000</td>\n",
       "      <td>f</td>\n",
       "      <td>t</td>\n",
       "      <td>2</td>\n",
       "      <td>g</td>\n",
       "      <td>105</td>\n",
       "      <td>-</td>\n",
       "    </tr>\n",
       "    <tr>\n",
       "      <th>328</th>\n",
       "      <td>b</td>\n",
       "      <td>NaN</td>\n",
       "      <td>4.000</td>\n",
       "      <td>y</td>\n",
       "      <td>p</td>\n",
       "      <td>i</td>\n",
       "      <td>v</td>\n",
       "      <td>0.085</td>\n",
       "      <td>f</td>\n",
       "      <td>f</td>\n",
       "      <td>0</td>\n",
       "      <td>g</td>\n",
       "      <td>0</td>\n",
       "      <td>-</td>\n",
       "    </tr>\n",
       "    <tr>\n",
       "      <th>444</th>\n",
       "      <td>a</td>\n",
       "      <td>NaN</td>\n",
       "      <td>11.250</td>\n",
       "      <td>u</td>\n",
       "      <td>g</td>\n",
       "      <td>ff</td>\n",
       "      <td>ff</td>\n",
       "      <td>0.000</td>\n",
       "      <td>f</td>\n",
       "      <td>f</td>\n",
       "      <td>0</td>\n",
       "      <td>g</td>\n",
       "      <td>5200</td>\n",
       "      <td>-</td>\n",
       "    </tr>\n",
       "    <tr>\n",
       "      <th>449</th>\n",
       "      <td>b</td>\n",
       "      <td>NaN</td>\n",
       "      <td>3.000</td>\n",
       "      <td>y</td>\n",
       "      <td>p</td>\n",
       "      <td>i</td>\n",
       "      <td>bb</td>\n",
       "      <td>7.000</td>\n",
       "      <td>f</td>\n",
       "      <td>f</td>\n",
       "      <td>0</td>\n",
       "      <td>g</td>\n",
       "      <td>1</td>\n",
       "      <td>-</td>\n",
       "    </tr>\n",
       "    <tr>\n",
       "      <th>499</th>\n",
       "      <td>b</td>\n",
       "      <td>NaN</td>\n",
       "      <td>4.000</td>\n",
       "      <td>u</td>\n",
       "      <td>g</td>\n",
       "      <td>x</td>\n",
       "      <td>v</td>\n",
       "      <td>5.000</td>\n",
       "      <td>t</td>\n",
       "      <td>t</td>\n",
       "      <td>3</td>\n",
       "      <td>g</td>\n",
       "      <td>2279</td>\n",
       "      <td>+</td>\n",
       "    </tr>\n",
       "    <tr>\n",
       "      <th>514</th>\n",
       "      <td>b</td>\n",
       "      <td>NaN</td>\n",
       "      <td>10.500</td>\n",
       "      <td>u</td>\n",
       "      <td>g</td>\n",
       "      <td>x</td>\n",
       "      <td>v</td>\n",
       "      <td>6.500</td>\n",
       "      <td>t</td>\n",
       "      <td>f</td>\n",
       "      <td>0</td>\n",
       "      <td>g</td>\n",
       "      <td>0</td>\n",
       "      <td>+</td>\n",
       "    </tr>\n",
       "    <tr>\n",
       "      <th>607</th>\n",
       "      <td>b</td>\n",
       "      <td>NaN</td>\n",
       "      <td>0.040</td>\n",
       "      <td>y</td>\n",
       "      <td>p</td>\n",
       "      <td>d</td>\n",
       "      <td>v</td>\n",
       "      <td>4.250</td>\n",
       "      <td>f</td>\n",
       "      <td>f</td>\n",
       "      <td>0</td>\n",
       "      <td>g</td>\n",
       "      <td>0</td>\n",
       "      <td>-</td>\n",
       "    </tr>\n",
       "  </tbody>\n",
       "</table>\n",
       "</div>"
      ],
      "text/plain": [
       "    f1  f2      f3 f4 f5  f6  f7     f8 f9 f10  f11 f12   f13 target\n",
       "82   a NaN   3.500  u  g   d   v  3.000  t   f    0   g     0      -\n",
       "85   b NaN   0.375  u  g   d   v  0.875  t   f    0   s     0      -\n",
       "91   b NaN   5.000  y  p  aa   v  8.500  t   f    0   g     0      -\n",
       "96   b NaN   0.500  u  g   c  bb  0.835  t   f    0   s     0      -\n",
       "253  b NaN   0.625  u  g   k   v  0.250  f   f    0   g  2010      -\n",
       "285  a NaN   1.500  u  g  ff  ff  0.000  f   t    2   g   105      -\n",
       "328  b NaN   4.000  y  p   i   v  0.085  f   f    0   g     0      -\n",
       "444  a NaN  11.250  u  g  ff  ff  0.000  f   f    0   g  5200      -\n",
       "449  b NaN   3.000  y  p   i  bb  7.000  f   f    0   g     1      -\n",
       "499  b NaN   4.000  u  g   x   v  5.000  t   t    3   g  2279      +\n",
       "514  b NaN  10.500  u  g   x   v  6.500  t   f    0   g     0      +\n",
       "607  b NaN   0.040  y  p   d   v  4.250  f   f    0   g     0      -"
      ]
     },
     "execution_count": 12,
     "metadata": {},
     "output_type": "execute_result"
    }
   ],
   "source": [
    "data[data[\"f2\"].isna()]"
   ]
  },
  {
   "cell_type": "code",
   "execution_count": 13,
   "id": "ec4edb4f-278b-48c5-8ece-2962dd0826fe",
   "metadata": {},
   "outputs": [],
   "source": [
    "# DATA CONSISTENCY"
   ]
  },
  {
   "cell_type": "code",
   "execution_count": 14,
   "id": "2a1506f2-360f-478e-9667-fd48700d5bc2",
   "metadata": {},
   "outputs": [
    {
     "data": {
      "text/plain": [
       "f1         0\n",
       "f2        12\n",
       "f3         0\n",
       "f4         0\n",
       "f5         0\n",
       "f6         0\n",
       "f7         0\n",
       "f8         0\n",
       "f9         0\n",
       "f10        0\n",
       "f11        0\n",
       "f12        0\n",
       "f13        0\n",
       "target     0\n",
       "dtype: int64"
      ]
     },
     "execution_count": 14,
     "metadata": {},
     "output_type": "execute_result"
    }
   ],
   "source": [
    "# determine number of total NaNs -> NaNs get imputed by the mean value in the ML preprocessing step\n",
    "data.isna().sum()"
   ]
  },
  {
   "cell_type": "code",
   "execution_count": 15,
   "id": "29fa02f3-32a0-421d-a989-7dcfee76f703",
   "metadata": {},
   "outputs": [],
   "source": [
    "# split data for convenient handling\n",
    "num_dat=data.select_dtypes(\"number\")\n",
    "str_dat=data.select_dtypes(\"object\")"
   ]
  },
  {
   "cell_type": "code",
   "execution_count": 16,
   "id": "34f57094-d7f9-4e2e-b167-889bc5bd53c5",
   "metadata": {},
   "outputs": [
    {
     "name": "stdout",
     "output_type": "stream",
     "text": [
      "f1 ['a' 'b' '?']\n",
      "f4 ['u' 'y' '?' 'l']\n",
      "f5 ['g' 'p' '?' 'gg']\n",
      "f6 ['q' 'w' 'm' 'r' 'cc' 'k' 'c' 'd' 'x' 'i' 'e' 'aa' 'ff' 'j' '?']\n",
      "f7 ['h' 'v' 'bb' 'ff' 'j' 'z' '?' 'o' 'dd' 'n']\n",
      "f9 ['t' 'f']\n",
      "f10 ['t' 'f']\n",
      "f12 ['g' 's' 'p']\n",
      "target ['+' '-']\n"
     ]
    }
   ],
   "source": [
    "# determine unique categorical values\n",
    "for c in str_dat.columns:\n",
    "    print(c,data[c].unique())"
   ]
  },
  {
   "cell_type": "code",
   "execution_count": 17,
   "id": "b6acf684-2315-4f03-a7c0-1fb9b4c55a20",
   "metadata": {},
   "outputs": [
    {
     "data": {
      "text/plain": [
       "f1        1.741655\n",
       "f2        0.000000\n",
       "f3        0.000000\n",
       "f4        0.870827\n",
       "f5        0.870827\n",
       "f6        1.306241\n",
       "f7        1.306241\n",
       "f8        0.000000\n",
       "f9        0.000000\n",
       "f10       0.000000\n",
       "f11       0.000000\n",
       "f12       0.000000\n",
       "f13       0.000000\n",
       "target    0.000000\n",
       "dtype: float64"
      ]
     },
     "execution_count": 17,
     "metadata": {},
     "output_type": "execute_result"
    }
   ],
   "source": [
    "# each fraction of \"?\" (in %) in each feature\n",
    "count_f=(data==\"?\").sum()/len(data)*100\n",
    "count_f"
   ]
  },
  {
   "cell_type": "code",
   "execution_count": 18,
   "id": "eb8f0653-839c-422d-97a0-397148449618",
   "metadata": {},
   "outputs": [
    {
     "data": {
      "text/plain": [
       "205    28.571429\n",
       "269    28.571429\n",
       "329    28.571429\n",
       "455    28.571429\n",
       "478    21.428571\n",
       "538    14.285714\n",
       "591    28.571429\n",
       "600    21.428571\n",
       "621    28.571429\n",
       "dtype: float64"
      ]
     },
     "execution_count": 18,
     "metadata": {},
     "output_type": "execute_result"
    }
   ],
   "source": [
    "# identifying rows with (\"?\" > 1) and determing fraction (in %)\n",
    "count_r=(data==\"?\").sum(axis=1)\n",
    "(count_r[count_r>1])/data.shape[1]*100"
   ]
  },
  {
   "cell_type": "code",
   "execution_count": 19,
   "id": "bbc6a512-6217-4c35-b3a8-0441bb9a813d",
   "metadata": {},
   "outputs": [
    {
     "data": {
      "text/plain": [
       "f1         0\n",
       "f2        12\n",
       "f3         0\n",
       "f4         0\n",
       "f5         0\n",
       "f6         0\n",
       "f7         0\n",
       "f8         0\n",
       "f9         0\n",
       "f10        0\n",
       "f11        0\n",
       "f12        0\n",
       "f13        0\n",
       "target     0\n",
       "dtype: int64"
      ]
     },
     "execution_count": 19,
     "metadata": {},
     "output_type": "execute_result"
    }
   ],
   "source": [
    "# small overall fraction of \"?\" -> those will be transformed to NaN \\ \n",
    "# and imputed by the most frequent value in the ML preprocessind step rather than left as standalone value\n",
    "data.replace(\"?\",np.nan)\n",
    "data.isna().sum()"
   ]
  },
  {
   "cell_type": "code",
   "execution_count": 20,
   "id": "c8256a8b-3333-42e0-b8de-119844ee7b34",
   "metadata": {},
   "outputs": [],
   "source": [
    "# for Python practicing purposes, identification of rows with (\"?\">1) in an algorithmic approach:\n",
    "\n",
    "# 1.) identify rows with \"?\" and determine row index to create sub dataframe\n",
    "ind_list=[]\n",
    "for c in str_dat.columns:\n",
    "    ind_list=ind_list+list(data[data[c]==\"?\"].index)\n",
    "ind_list=list(set(ind_list))\n",
    "sub_df=data.iloc[ind_list].reset_index()"
   ]
  },
  {
   "cell_type": "code",
   "execution_count": 21,
   "id": "4a3010a0-4570-4573-a2ce-3e7138cf5e07",
   "metadata": {},
   "outputs": [
    {
     "name": "stdout",
     "output_type": "stream",
     "text": [
      "{0: 1, 1: 1, 2: 4, 3: 2, 4: 1, 5: 1, 6: 1, 7: 4, 8: 4, 9: 4, 10: 4, 11: 1, 12: 3, 13: 1, 14: 3, 15: 1, 16: 4, 17: 1, 18: 1}\n"
     ]
    }
   ],
   "source": [
    "# 2.) check each cell, count the \"?\" row-wise and store values in a lookup dictionary\n",
    "count_dic={}\n",
    "for r in sub_df.index:\n",
    "    count=0\n",
    "    for c in sub_df.columns:\n",
    "        if sub_df.loc[r,c]==\"?\":\n",
    "            count=count+1\n",
    "        else:\n",
    "            continue\n",
    "        count_dic[r]=count\n",
    "print(count_dic)"
   ]
  },
  {
   "cell_type": "code",
   "execution_count": 22,
   "id": "4a011b4c-0183-4bfb-b4d2-915044de7079",
   "metadata": {},
   "outputs": [
    {
     "data": {
      "text/plain": [
       "[205, 269, 329, 455, 478, 538, 591, 600, 621]"
      ]
     },
     "execution_count": 22,
     "metadata": {},
     "output_type": "execute_result"
    }
   ],
   "source": [
    "# 3.) identify values >1 and match corresponding key with sub dataframe in order to unlock original index\n",
    "key_list=[]\n",
    "for k,v in count_dic.items():\n",
    "    if v>1:\n",
    "        key_list.append(k)\n",
    "    else:\n",
    "        continue\n",
    "sub_sub_df=sub_df.loc[key_list]\n",
    "sorted(list(sub_sub_df.set_index(\"index\").index))"
   ]
  },
  {
   "cell_type": "code",
   "execution_count": 23,
   "id": "b3e9f1d6-1cbd-4a26-b99c-90e68a45cf3a",
   "metadata": {},
   "outputs": [],
   "source": [
    "# for further practical puroposes, assume that two-letter alphabetic strings are typos (which are probably not); therefore, correcting those, too"
   ]
  },
  {
   "cell_type": "code",
   "execution_count": 24,
   "id": "46eac5d5-ba47-4110-9ad3-bb97ddc15fca",
   "metadata": {},
   "outputs": [
    {
     "name": "stdout",
     "output_type": "stream",
     "text": [
      "f1 ['a' 'b' '?']\n",
      "f4 ['u' 'y' '?' 'l']\n",
      "f5 ['g' 'p' '?']\n",
      "f6 ['q' 'w' 'm' 'r' 'c' 'k' 'd' 'x' 'i' 'e' 'a' 'f' 'j' '?']\n",
      "f7 ['h' 'v' 'b' 'f' 'j' 'z' '?' 'o' 'd' 'n']\n",
      "f9 ['t' 'f']\n",
      "f10 ['t' 'f']\n",
      "f12 ['g' 's' 'p']\n",
      "target ['+' '-']\n"
     ]
    }
   ],
   "source": [
    "import re\n",
    "for c in str_dat.columns:\n",
    "    data[c]=data[c].apply(lambda x: re.sub(r\"^[a-z]{2}$\",x[0],x))\n",
    "    print(c,data[c].unique())"
   ]
  },
  {
   "cell_type": "code",
   "execution_count": 25,
   "id": "f27d5d30-1ef6-4084-9da1-7526cc53b8f9",
   "metadata": {},
   "outputs": [],
   "source": [
    "# checking stats on numeric data"
   ]
  },
  {
   "cell_type": "code",
   "execution_count": 26,
   "id": "9f9fba80-b8f4-4997-be8e-4b82e8be10a7",
   "metadata": {},
   "outputs": [
    {
     "data": {
      "text/html": [
       "<div>\n",
       "<style scoped>\n",
       "    .dataframe tbody tr th:only-of-type {\n",
       "        vertical-align: middle;\n",
       "    }\n",
       "\n",
       "    .dataframe tbody tr th {\n",
       "        vertical-align: top;\n",
       "    }\n",
       "\n",
       "    .dataframe thead th {\n",
       "        text-align: right;\n",
       "    }\n",
       "</style>\n",
       "<table border=\"1\" class=\"dataframe\">\n",
       "  <thead>\n",
       "    <tr style=\"text-align: right;\">\n",
       "      <th></th>\n",
       "      <th>f2</th>\n",
       "      <th>f3</th>\n",
       "      <th>f8</th>\n",
       "      <th>f11</th>\n",
       "      <th>f13</th>\n",
       "    </tr>\n",
       "  </thead>\n",
       "  <tbody>\n",
       "    <tr>\n",
       "      <th>count</th>\n",
       "      <td>677.000000</td>\n",
       "      <td>689.000000</td>\n",
       "      <td>689.000000</td>\n",
       "      <td>689.000000</td>\n",
       "      <td>689.000000</td>\n",
       "    </tr>\n",
       "    <tr>\n",
       "      <th>mean</th>\n",
       "      <td>31.569261</td>\n",
       "      <td>4.765631</td>\n",
       "      <td>2.224819</td>\n",
       "      <td>2.402032</td>\n",
       "      <td>1018.862119</td>\n",
       "    </tr>\n",
       "    <tr>\n",
       "      <th>std</th>\n",
       "      <td>11.966670</td>\n",
       "      <td>4.978470</td>\n",
       "      <td>3.348739</td>\n",
       "      <td>4.866180</td>\n",
       "      <td>5213.743149</td>\n",
       "    </tr>\n",
       "    <tr>\n",
       "      <th>min</th>\n",
       "      <td>13.750000</td>\n",
       "      <td>0.000000</td>\n",
       "      <td>0.000000</td>\n",
       "      <td>0.000000</td>\n",
       "      <td>0.000000</td>\n",
       "    </tr>\n",
       "    <tr>\n",
       "      <th>25%</th>\n",
       "      <td>22.580000</td>\n",
       "      <td>1.000000</td>\n",
       "      <td>0.165000</td>\n",
       "      <td>0.000000</td>\n",
       "      <td>0.000000</td>\n",
       "    </tr>\n",
       "    <tr>\n",
       "      <th>50%</th>\n",
       "      <td>28.420000</td>\n",
       "      <td>2.750000</td>\n",
       "      <td>1.000000</td>\n",
       "      <td>0.000000</td>\n",
       "      <td>5.000000</td>\n",
       "    </tr>\n",
       "    <tr>\n",
       "      <th>75%</th>\n",
       "      <td>38.250000</td>\n",
       "      <td>7.250000</td>\n",
       "      <td>2.625000</td>\n",
       "      <td>3.000000</td>\n",
       "      <td>396.000000</td>\n",
       "    </tr>\n",
       "    <tr>\n",
       "      <th>max</th>\n",
       "      <td>80.250000</td>\n",
       "      <td>28.000000</td>\n",
       "      <td>28.500000</td>\n",
       "      <td>67.000000</td>\n",
       "      <td>100000.000000</td>\n",
       "    </tr>\n",
       "  </tbody>\n",
       "</table>\n",
       "</div>"
      ],
      "text/plain": [
       "               f2          f3          f8         f11            f13\n",
       "count  677.000000  689.000000  689.000000  689.000000     689.000000\n",
       "mean    31.569261    4.765631    2.224819    2.402032    1018.862119\n",
       "std     11.966670    4.978470    3.348739    4.866180    5213.743149\n",
       "min     13.750000    0.000000    0.000000    0.000000       0.000000\n",
       "25%     22.580000    1.000000    0.165000    0.000000       0.000000\n",
       "50%     28.420000    2.750000    1.000000    0.000000       5.000000\n",
       "75%     38.250000    7.250000    2.625000    3.000000     396.000000\n",
       "max     80.250000   28.000000   28.500000   67.000000  100000.000000"
      ]
     },
     "execution_count": 26,
     "metadata": {},
     "output_type": "execute_result"
    }
   ],
   "source": [
    "data.describe()"
   ]
  },
  {
   "cell_type": "code",
   "execution_count": 27,
   "id": "f19eaf2b-b6bd-4633-8a0e-1d11ffd88100",
   "metadata": {},
   "outputs": [
    {
     "data": {
      "image/png": "[encoded data removed]",
      "text/plain": [
       "<Figure size 500x300 with 1 Axes>"
      ]
     },
     "metadata": {},
     "output_type": "display_data"
    },
    {
     "data": {
      "image/png": "[encoded data removed]",
      "text/plain": [
       "<Figure size 500x300 with 1 Axes>"
      ]
     },
     "metadata": {},
     "output_type": "display_data"
    },
    {
     "data": {
      "image/png": "[encoded data removed]",
      "text/plain": [
       "<Figure size 500x300 with 1 Axes>"
      ]
     },
     "metadata": {},
     "output_type": "display_data"
    },
    {
     "data": {
      "image/png": "[encoded data removed]",
      "text/plain": [
       "<Figure size 500x300 with 1 Axes>"
      ]
     },
     "metadata": {},
     "output_type": "display_data"
    },
    {
     "data": {
      "image/png": "[encoded data removed]",
      "text/plain": [
       "<Figure size 500x300 with 1 Axes>"
      ]
     },
     "metadata": {},
     "output_type": "display_data"
    }
   ],
   "source": [
    "# determine distribution in order to define potential ML processing steps\n",
    "sns.set_style(\"darkgrid\")\n",
    "for c in num_dat.columns:\n",
    "    fig,ax=plt.subplots(figsize=(5,3))\n",
    "    sns.histplot(data=data,x=c,ax=ax)\n",
    "    plt.tight_layout()\n",
    "    plt.show()"
   ]
  },
  {
   "cell_type": "code",
   "execution_count": 28,
   "id": "7a0ca0df-af6e-4f2d-97a7-1e80a07ec113",
   "metadata": {},
   "outputs": [
    {
     "data": {
      "text/plain": [
       "<Axes: >"
      ]
     },
     "execution_count": 28,
     "metadata": {},
     "output_type": "execute_result"
    },
    {
     "data": {
      "image/png": "[encoded data removed]",
      "text/plain": [
       "<Figure size 640x480 with 2 Axes>"
      ]
     },
     "metadata": {},
     "output_type": "display_data"
    }
   ],
   "source": [
    "# check visually for correlation among numeric data\n",
    "sns.heatmap(num_dat.corr(),annot=True)"
   ]
  },
  {
   "cell_type": "code",
   "execution_count": 29,
   "id": "35c87bdc-42e7-4118-b62e-ff9bc1bf003a",
   "metadata": {},
   "outputs": [
    {
     "data": {
      "text/html": [
       "<div>\n",
       "<style scoped>\n",
       "    .dataframe tbody tr th:only-of-type {\n",
       "        vertical-align: middle;\n",
       "    }\n",
       "\n",
       "    .dataframe tbody tr th {\n",
       "        vertical-align: top;\n",
       "    }\n",
       "\n",
       "    .dataframe thead th {\n",
       "        text-align: right;\n",
       "    }\n",
       "</style>\n",
       "<table border=\"1\" class=\"dataframe\">\n",
       "  <thead>\n",
       "    <tr style=\"text-align: right;\">\n",
       "      <th></th>\n",
       "      <th>f2</th>\n",
       "      <th>f3</th>\n",
       "      <th>f8</th>\n",
       "      <th>f11</th>\n",
       "      <th>f13</th>\n",
       "    </tr>\n",
       "  </thead>\n",
       "  <tbody>\n",
       "    <tr>\n",
       "      <th>f2</th>\n",
       "      <td>False</td>\n",
       "      <td>False</td>\n",
       "      <td>False</td>\n",
       "      <td>False</td>\n",
       "      <td>False</td>\n",
       "    </tr>\n",
       "    <tr>\n",
       "      <th>f3</th>\n",
       "      <td>False</td>\n",
       "      <td>False</td>\n",
       "      <td>False</td>\n",
       "      <td>False</td>\n",
       "      <td>False</td>\n",
       "    </tr>\n",
       "    <tr>\n",
       "      <th>f8</th>\n",
       "      <td>False</td>\n",
       "      <td>False</td>\n",
       "      <td>False</td>\n",
       "      <td>False</td>\n",
       "      <td>False</td>\n",
       "    </tr>\n",
       "    <tr>\n",
       "      <th>f11</th>\n",
       "      <td>False</td>\n",
       "      <td>False</td>\n",
       "      <td>False</td>\n",
       "      <td>False</td>\n",
       "      <td>False</td>\n",
       "    </tr>\n",
       "    <tr>\n",
       "      <th>f13</th>\n",
       "      <td>False</td>\n",
       "      <td>False</td>\n",
       "      <td>False</td>\n",
       "      <td>False</td>\n",
       "      <td>False</td>\n",
       "    </tr>\n",
       "  </tbody>\n",
       "</table>\n",
       "</div>"
      ],
      "text/plain": [
       "        f2     f3     f8    f11    f13\n",
       "f2   False  False  False  False  False\n",
       "f3   False  False  False  False  False\n",
       "f8   False  False  False  False  False\n",
       "f11  False  False  False  False  False\n",
       "f13  False  False  False  False  False"
      ]
     },
     "execution_count": 29,
     "metadata": {},
     "output_type": "execute_result"
    }
   ],
   "source": [
    "# check if a coefficent above 0.8 occurs\n",
    "corr_tab=num_dat.corr()\n",
    "~corr_tab[(corr_tab>0.8) & (corr_tab!=1.0)].isna()"
   ]
  },
  {
   "cell_type": "code",
   "execution_count": 30,
   "id": "c21fd642-b1b2-4da0-bdd7-40c8ed1a1931",
   "metadata": {},
   "outputs": [],
   "source": [
    "# check duplicates with assert statement\n",
    "dupl=data.duplicated(subset=(data.columns.tolist()),keep=False)\n",
    "assert dupl.any()==False"
   ]
  },
  {
   "cell_type": "code",
   "execution_count": 31,
   "id": "8c81c9f3-9187-4e59-87fc-a83dc948c091",
   "metadata": {},
   "outputs": [
    {
     "data": {
      "text/plain": [
       "f1        category\n",
       "f2         float64\n",
       "f3         float64\n",
       "f4        category\n",
       "f5        category\n",
       "f6        category\n",
       "f7        category\n",
       "f8         float64\n",
       "f9        category\n",
       "f10       category\n",
       "f11          int64\n",
       "f12       category\n",
       "f13          int64\n",
       "target    category\n",
       "dtype: object"
      ]
     },
     "execution_count": 31,
     "metadata": {},
     "output_type": "execute_result"
    }
   ],
   "source": [
    "# conversion of string features into categories\n",
    "cat_feat=data.select_dtypes(\"object\").columns\n",
    "data[cat_feat]=data[cat_feat].astype(\"category\")\n",
    "data.dtypes"
   ]
  },
  {
   "cell_type": "code",
   "execution_count": 32,
   "id": "845604c6-4628-465c-8924-f127edb81aa1",
   "metadata": {},
   "outputs": [
    {
     "data": {
      "text/plain": [
       "target\n",
       "-    0.555878\n",
       "+    0.444122\n",
       "Name: proportion, dtype: float64"
      ]
     },
     "execution_count": 32,
     "metadata": {},
     "output_type": "execute_result"
    }
   ],
   "source": [
    "# check class balance of target & evaluate accor. to threshold\n",
    "balance_tab=data[\"target\"].value_counts(normalize=True)\n",
    "balance_tab"
   ]
  },
  {
   "cell_type": "code",
   "execution_count": 33,
   "id": "276f6b25-de5d-4d7d-b913-a09a38b2033a",
   "metadata": {},
   "outputs": [
    {
     "name": "stdout",
     "output_type": "stream",
     "text": [
      "=> Target classes considered balanced.\n"
     ]
    }
   ],
   "source": [
    "balance_threshold=0.4\n",
    "if (balance_tab<=balance_threshold).sum():\n",
    "    print(\"=> Target classes considered imbalanced.\")\n",
    "else:\n",
    "    print(\"=> Target classes considered balanced.\")"
   ]
  },
  {
   "cell_type": "code",
   "execution_count": 34,
   "id": "44cb9c80-ab62-459a-b828-b9dea2d26ca8",
   "metadata": {},
   "outputs": [],
   "source": [
    "# PREPROCESSING:\n",
    "\t# target                 > LabelEncoding\n",
    "    # categorical features\t > One Hot Encoding & Imputing by the most frequent value\n",
    "\t# numerical features\t > PowerTransformation & Imputing by the mean value"
   ]
  },
  {
   "cell_type": "code",
   "execution_count": 35,
   "id": "d7907ce9-1301-4363-afb6-8442d3aa3dd1",
   "metadata": {},
   "outputs": [],
   "source": [
    "# load libraries, define X &y, split into training & test set\n",
    "from sklearn.preprocessing import PowerTransformer, OneHotEncoder, LabelEncoder\n",
    "from sklearn.impute import SimpleImputer\n",
    "from sklearn.model_selection import train_test_split, cross_val_score, KFold\n",
    "from sklearn.compose import ColumnTransformer\n",
    "from sklearn.pipeline import Pipeline\n",
    "\n",
    "y=data[\"target\"]\n",
    "X=data.drop(\"target\",axis=1)\n",
    "\n",
    "X_train, X_test, y_train, y_test=train_test_split(X,y,test_size=0.3,random_state=72)"
   ]
  },
  {
   "cell_type": "code",
   "execution_count": 36,
   "id": "51906d01-a634-44a0-9b4a-7114451d35f4",
   "metadata": {},
   "outputs": [],
   "source": [
    "# target is encoded separately\n",
    "le=LabelEncoder()\n",
    "y_train_prep=le.fit_transform(y_train)\n",
    "y_test_prep=le.transform(y_test)"
   ]
  },
  {
   "cell_type": "code",
   "execution_count": 37,
   "id": "42b8b2cf-32dd-477f-9a19-a6656f0c1074",
   "metadata": {},
   "outputs": [],
   "source": [
    "# processing of X features\n",
    "cat=data.select_dtypes(\"category\").columns.tolist()\n",
    "cat.remove(\"target\")\n",
    "num=data.select_dtypes(\"number\").columns.tolist()\n",
    "\n",
    "prep=ColumnTransformer(transformers=[\n",
    "    (\"cat\",Pipeline([\n",
    "        (\"imputer\", SimpleImputer(strategy=\"most_frequent\")),\n",
    "        (\"encoder\", OneHotEncoder(drop=\"first\", sparse_output=False,handle_unknown=\"ignore\"))]),cat),\n",
    "    (\"num\",Pipeline([\n",
    "        (\"imputer\", SimpleImputer(strategy=\"mean\")),\n",
    "        (\"power\", PowerTransformer())]),num)])\n",
    "\n",
    "X_train_prep=prep.fit_transform(X_train)\n",
    "X_test_prep=prep.transform(X_test)\n",
    "\n",
    "feature_names=prep.get_feature_names_out()"
   ]
  },
  {
   "cell_type": "code",
   "execution_count": 38,
   "id": "f58b27ab-2d58-48ec-b32e-e53f2525fa89",
   "metadata": {},
   "outputs": [],
   "source": [
    "# MODEL SELECTION & ML APPROACH\n",
    "    # RandomForestClassifer, XGBClassifier, VotingClassifier(LogisticRegression, SVM)\n",
    "    # Cross Validation for finding the best estimator by evaluating metrics (ROC_AUC_SCORE)\n",
    "    # Hyperparameter Tuning via RandomizedSearchCV and Optuna\n",
    "    # Feature Importance, Permutation, Explainability SHAP on final model\n",
    "    # PCA and Re-run dimension reduced model"
   ]
  },
  {
   "cell_type": "code",
   "execution_count": 39,
   "id": "5fcdc315-aed3-45b6-8376-f05e522df395",
   "metadata": {},
   "outputs": [],
   "source": [
    "# import all required modules\n",
    "from sklearn.metrics import roc_auc_score\n",
    "from sklearn.ensemble import VotingClassifier, RandomForestClassifier\n",
    "from sklearn.svm import SVC\n",
    "from sklearn.linear_model import LogisticRegression\n",
    "import xgboost as xgb\n",
    "import optuna\n",
    "from sklearn.model_selection import RandomizedSearchCV"
   ]
  },
  {
   "cell_type": "code",
   "execution_count": 40,
   "id": "58113973-b6b0-4f4e-bebd-5b0d62bd3ee9",
   "metadata": {},
   "outputs": [
    {
     "name": "stdout",
     "output_type": "stream",
     "text": [
      "RandomForestClassifier:\n",
      "CV Score: 0.912\t\tTraining Score: 1.000\tTest Score: 0.926\n",
      "\n",
      "XGBClassifier:\n",
      "CV Score: 0.914\t\tTraining Score: 1.000\tTest Score: 0.936\n",
      "\n",
      "VotingClassifier:\n",
      "CV Score: 0.921\t\tTraining Score: 0.958\tTest Score: 0.933\n",
      "\n"
     ]
    }
   ],
   "source": [
    "# cross validation\n",
    "base_models = [(\"lr\", LogisticRegression(solver=\"liblinear\")), (\"svc\", SVC(probability=True))]\n",
    "models={\"RandomForestClassifier\":RandomForestClassifier, \n",
    "        \"XGBClassifier\":xgb.XGBClassifier, \n",
    "        \"VotingClassifier\":VotingClassifier}\n",
    "params={\"RandomForestClassifier\":{'n_estimators': 30}, \n",
    "        \"XGBClassifier\":{'n_estimators': 30}, \n",
    "        \"VotingClassifier\":{'estimators': base_models, \"voting\": \"soft\"}}\n",
    "kf=KFold(shuffle=True,n_splits=10,random_state=87)\n",
    "model_dic={}\n",
    "for name in models:\n",
    "    Model=models[name]\n",
    "    param=params[name]\n",
    "    model=Model(**param)\n",
    "    cv_result=cross_val_score(model, X_train_prep, y_train_prep, cv=kf,scoring=\"roc_auc\")\n",
    "    folded_score=cv_result.mean()\n",
    "    model.fit(X_train_prep,y_train_prep)\n",
    "    y_pred_train=model.predict_proba(X_train_prep)\n",
    "    train_score=roc_auc_score(y_train_prep,y_pred_train[:,1])\n",
    "    y_pred_test=model.predict_proba(X_test_prep)\n",
    "    test_score=roc_auc_score(y_test_prep,y_pred_test[:,1])\n",
    "    print(f\"{model.__class__.__name__}:\\nCV Score: {folded_score:.3f}\\t\\tTraining Score: {train_score:.3f}\\tTest Score: {test_score:.3f}\\n\")\n",
    "    model_dic[model.__class__.__name__]=[folded_score,train_score,test_score] # will be used for comparision analysis later on"
   ]
  },
  {
   "cell_type": "code",
   "execution_count": 41,
   "id": "576c4f59-4d15-4f0f-a15a-6ed59354ba3a",
   "metadata": {
    "scrolled": true
   },
   "outputs": [
    {
     "name": "stdout",
     "output_type": "stream",
     "text": [
      "0.9178770283878125\n",
      "{'svc__gamma': 10, 'svc__C': 0.1, 'lr__penalty': 'l1', 'lr__C': 1}\n",
      "VotingClassifier(estimators=[('lr',\n",
      "                              LogisticRegression(C=1, penalty='l1',\n",
      "                                                 solver='liblinear')),\n",
      "                             ('svc', SVC(C=0.1, gamma=10, probability=True))],\n",
      "                 voting='soft')\n"
     ]
    }
   ],
   "source": [
    "# hyperparameter tuning of the VotingClassifier: RandomizedSearchCV\n",
    "base_params={\"lr__C\":[0.001, 0.01, 0.1, 1, 10, 100, 1000],\n",
    "             \"lr__penalty\":[\"l1\",\"l2\"],\n",
    "             \"svc__C\":[0.001, 0.01, 0.1, 1, 10, 100, 1000],\n",
    "             \"svc__gamma\":[0.001, 0.01, 0.1, 1, 10]}\n",
    "vc=VotingClassifier(**params[\"VotingClassifier\"])\n",
    "rcv=RandomizedSearchCV(vc,base_params,cv=kf,n_iter=15,scoring=\"roc_auc\")\n",
    "rcv.fit(X_train_prep, y_train_prep)\n",
    "print(rcv.best_score_)\n",
    "print(rcv.best_params_)\n",
    "print(rcv.best_estimator_)"
   ]
  },
  {
   "cell_type": "code",
   "execution_count": 42,
   "id": "839778b2-fb4c-4126-aca0-4926a53a754d",
   "metadata": {},
   "outputs": [
    {
     "name": "stdout",
     "output_type": "stream",
     "text": [
      "0.9208926875593542\n",
      "=> No improvement due to hyperparameter tuning.\n"
     ]
    }
   ],
   "source": [
    "# evaluate potential improvement due to hyperparameter tuning\n",
    "tuned_model=rcv.best_estimator_\n",
    "y_test_proba=tuned_model.predict_proba(X_test_prep)\n",
    "test_score_tuned=roc_auc_score(y_test_prep,y_test_proba[:,1])\n",
    "print(test_score_tuned)\n",
    "if test_score_tuned > model_dic[\"VotingClassifier\"][-1]:\n",
    "    print(\"=> Improvement due to hyperparameter tuning.\")\n",
    "else:\n",
    "    print(\"=> No improvement due to hyperparameter tuning.\")"
   ]
  },
  {
   "cell_type": "code",
   "execution_count": 43,
   "id": "123a472b-77f3-4494-8ec1-d190a691426d",
   "metadata": {
    "scrolled": true
   },
   "outputs": [
    {
     "name": "stderr",
     "output_type": "stream",
     "text": [
      "[I 2025-08-31 23:40:05,401] A new study created in memory with name: no-name-4e4def58-5a66-4a90-b4d7-a4cd8414c1b6\n",
      "[I 2025-08-31 23:40:05,566] Trial 0 finished with value: 0.9240265906932573 and parameters: {'classifier': 'XGB', 'xgb_max_depth': 24, 'xgb_n_estimators': 200}. Best is trial 0 with value: 0.9240265906932573.\n",
      "[I 2025-08-31 23:40:05,688] Trial 1 finished with value: 0.9242165242165242 and parameters: {'classifier': 'XGB', 'xgb_max_depth': 27, 'xgb_n_estimators': 135}. Best is trial 1 with value: 0.9242165242165242.\n",
      "[I 2025-08-31 23:40:06,468] Trial 2 finished with value: 0.9361348528015194 and parameters: {'classifier': 'RandomForest', 'rf_max_depth': 20, 'n_estimators': 201}. Best is trial 2 with value: 0.9361348528015194.\n",
      "[I 2025-08-31 23:40:06,625] Trial 3 finished with value: 0.9246913580246913 and parameters: {'classifier': 'XGB', 'xgb_max_depth': 17, 'xgb_n_estimators': 170}. Best is trial 2 with value: 0.9361348528015194.\n",
      "[I 2025-08-31 23:40:06,719] Trial 4 finished with value: 0.9256410256410256 and parameters: {'classifier': 'XGB', 'xgb_max_depth': 18, 'xgb_n_estimators': 86}. Best is trial 2 with value: 0.9361348528015194.\n",
      "[I 2025-08-31 23:40:07,305] Trial 5 finished with value: 0.9362298195631529 and parameters: {'classifier': 'RandomForest', 'rf_max_depth': 34, 'n_estimators': 148}. Best is trial 5 with value: 0.9362298195631529.\n",
      "[I 2025-08-31 23:40:07,468] Trial 6 finished with value: 0.9260208926875594 and parameters: {'classifier': 'XGB', 'xgb_max_depth': 35, 'xgb_n_estimators': 59}. Best is trial 5 with value: 0.9362298195631529.\n",
      "[I 2025-08-31 23:40:07,989] Trial 7 finished with value: 0.9300094966761633 and parameters: {'classifier': 'RandomForest', 'rf_max_depth': 6, 'n_estimators': 148}. Best is trial 5 with value: 0.9362298195631529.\n",
      "[I 2025-08-31 23:40:08,213] Trial 8 finished with value: 0.9233618233618234 and parameters: {'classifier': 'XGB', 'xgb_max_depth': 28, 'xgb_n_estimators': 224}. Best is trial 5 with value: 0.9362298195631529.\n",
      "[I 2025-08-31 23:40:08,456] Trial 9 finished with value: 0.9399810066476733 and parameters: {'classifier': 'RandomForest', 'rf_max_depth': 14, 'n_estimators': 74}. Best is trial 9 with value: 0.9399810066476733.\n",
      "[I 2025-08-31 23:40:08,662] Trial 10 finished with value: 0.9411206077872746 and parameters: {'classifier': 'RandomForest', 'rf_max_depth': 12, 'n_estimators': 67}. Best is trial 10 with value: 0.9411206077872746.\n",
      "[I 2025-08-31 23:40:08,842] Trial 11 finished with value: 0.9422602089268756 and parameters: {'classifier': 'RandomForest', 'rf_max_depth': 12, 'n_estimators': 50}. Best is trial 11 with value: 0.9422602089268756.\n",
      "[I 2025-08-31 23:40:09,039] Trial 12 finished with value: 0.943019943019943 and parameters: {'classifier': 'RandomForest', 'rf_max_depth': 12, 'n_estimators': 56}. Best is trial 12 with value: 0.943019943019943.\n",
      "[I 2025-08-31 23:40:09,624] Trial 13 finished with value: 0.9136752136752138 and parameters: {'classifier': 'RandomForest', 'rf_max_depth': 2, 'n_estimators': 296}. Best is trial 12 with value: 0.943019943019943.\n",
      "[I 2025-08-31 23:40:09,762] Trial 14 finished with value: 0.937559354226021 and parameters: {'classifier': 'RandomForest', 'rf_max_depth': 22, 'n_estimators': 52}. Best is trial 12 with value: 0.943019943019943.\n",
      "[I 2025-08-31 23:40:10,085] Trial 15 finished with value: 0.9367521367521368 and parameters: {'classifier': 'RandomForest', 'rf_max_depth': 11, 'n_estimators': 109}. Best is trial 12 with value: 0.943019943019943.\n",
      "[I 2025-08-31 23:40:10,367] Trial 16 finished with value: 0.9358024691358025 and parameters: {'classifier': 'RandomForest', 'rf_max_depth': 26, 'n_estimators': 111}. Best is trial 12 with value: 0.943019943019943.\n",
      "[I 2025-08-31 23:40:10,874] Trial 17 finished with value: 0.9362773029439696 and parameters: {'classifier': 'RandomForest', 'rf_max_depth': 8, 'n_estimators': 214}. Best is trial 12 with value: 0.943019943019943.\n",
      "[I 2025-08-31 23:40:11,092] Trial 18 finished with value: 0.937037037037037 and parameters: {'classifier': 'RandomForest', 'rf_max_depth': 16, 'n_estimators': 99}. Best is trial 12 with value: 0.943019943019943.\n",
      "[I 2025-08-31 23:40:11,649] Trial 19 finished with value: 0.9356600189933524 and parameters: {'classifier': 'RandomForest', 'rf_max_depth': 26, 'n_estimators': 260}. Best is trial 12 with value: 0.943019943019943.\n",
      "[I 2025-08-31 23:40:11,770] Trial 20 finished with value: 0.9409306742640076 and parameters: {'classifier': 'RandomForest', 'rf_max_depth': 7, 'n_estimators': 50}. Best is trial 12 with value: 0.943019943019943.\n",
      "[I 2025-08-31 23:40:11,956] Trial 21 finished with value: 0.933713200379867 and parameters: {'classifier': 'RandomForest', 'rf_max_depth': 13, 'n_estimators': 82}. Best is trial 12 with value: 0.943019943019943.\n",
      "[I 2025-08-31 23:40:12,087] Trial 22 finished with value: 0.9354700854700855 and parameters: {'classifier': 'RandomForest', 'rf_max_depth': 11, 'n_estimators': 53}. Best is trial 12 with value: 0.943019943019943.\n",
      "[I 2025-08-31 23:40:12,382] Trial 23 finished with value: 0.9389838556505223 and parameters: {'classifier': 'RandomForest', 'rf_max_depth': 18, 'n_estimators': 132}. Best is trial 12 with value: 0.943019943019943.\n",
      "[I 2025-08-31 23:40:12,561] Trial 24 finished with value: 0.9348528015194681 and parameters: {'classifier': 'RandomForest', 'rf_max_depth': 10, 'n_estimators': 81}. Best is trial 12 with value: 0.943019943019943.\n",
      "[I 2025-08-31 23:40:12,723] Trial 25 finished with value: 0.9153846153846155 and parameters: {'classifier': 'RandomForest', 'rf_max_depth': 3, 'n_estimators': 77}. Best is trial 12 with value: 0.943019943019943.\n",
      "[I 2025-08-31 23:40:13,147] Trial 26 finished with value: 0.9359449192782526 and parameters: {'classifier': 'RandomForest', 'rf_max_depth': 16, 'n_estimators': 178}. Best is trial 12 with value: 0.943019943019943.\n",
      "[I 2025-08-31 23:40:13,576] Trial 27 finished with value: 0.9391737891737891 and parameters: {'classifier': 'RandomForest', 'rf_max_depth': 14, 'n_estimators': 121}. Best is trial 12 with value: 0.943019943019943.\n",
      "[I 2025-08-31 23:40:13,798] Trial 28 finished with value: 0.9301994301994302 and parameters: {'classifier': 'RandomForest', 'rf_max_depth': 6, 'n_estimators': 92}. Best is trial 12 with value: 0.943019943019943.\n",
      "[I 2025-08-31 23:40:14,011] Trial 29 finished with value: 0.9236467236467236 and parameters: {'classifier': 'XGB', 'xgb_max_depth': 7, 'xgb_n_estimators': 300}. Best is trial 12 with value: 0.943019943019943.\n",
      "[I 2025-08-31 23:40:14,215] Trial 30 finished with value: 0.9360398860398861 and parameters: {'classifier': 'RandomForest', 'rf_max_depth': 23, 'n_estimators': 68}. Best is trial 12 with value: 0.943019943019943.\n",
      "[I 2025-08-31 23:40:14,350] Trial 31 finished with value: 0.9331433998100666 and parameters: {'classifier': 'RandomForest', 'rf_max_depth': 8, 'n_estimators': 56}. Best is trial 12 with value: 0.943019943019943.\n",
      "[I 2025-08-31 23:40:14,469] Trial 32 finished with value: 0.9279202279202279 and parameters: {'classifier': 'RandomForest', 'rf_max_depth': 5, 'n_estimators': 50}. Best is trial 12 with value: 0.943019943019943.\n",
      "[I 2025-08-31 23:40:14,637] Trial 33 finished with value: 0.9339981006647674 and parameters: {'classifier': 'RandomForest', 'rf_max_depth': 10, 'n_estimators': 68}. Best is trial 12 with value: 0.943019943019943.\n",
      "[I 2025-08-31 23:40:14,855] Trial 34 finished with value: 0.9235517568850901 and parameters: {'classifier': 'XGB', 'xgb_max_depth': 4, 'xgb_n_estimators': 295}. Best is trial 12 with value: 0.943019943019943.\n",
      "[I 2025-08-31 23:40:15,257] Trial 35 finished with value: 0.9336182336182336 and parameters: {'classifier': 'RandomForest', 'rf_max_depth': 8, 'n_estimators': 95}. Best is trial 12 with value: 0.943019943019943.\n",
      "[I 2025-08-31 23:40:15,421] Trial 36 finished with value: 0.9317663817663817 and parameters: {'classifier': 'RandomForest', 'rf_max_depth': 13, 'n_estimators': 66}. Best is trial 12 with value: 0.943019943019943.\n",
      "[I 2025-08-31 23:40:15,540] Trial 37 finished with value: 0.9245014245014246 and parameters: {'classifier': 'XGB', 'xgb_max_depth': 11, 'xgb_n_estimators': 113}. Best is trial 12 with value: 0.943019943019943.\n",
      "[I 2025-08-31 23:40:15,797] Trial 38 finished with value: 0.93670465337132 and parameters: {'classifier': 'RandomForest', 'rf_max_depth': 17, 'n_estimators': 95}. Best is trial 12 with value: 0.943019943019943.\n",
      "[I 2025-08-31 23:40:15,978] Trial 39 finished with value: 0.9231718898385565 and parameters: {'classifier': 'XGB', 'xgb_max_depth': 34, 'xgb_n_estimators': 227}. Best is trial 12 with value: 0.943019943019943.\n",
      "[I 2025-08-31 23:40:16,571] Trial 40 finished with value: 0.9367996201329535 and parameters: {'classifier': 'RandomForest', 'rf_max_depth': 20, 'n_estimators': 211}. Best is trial 12 with value: 0.943019943019943.\n",
      "[I 2025-08-31 23:40:16,744] Trial 41 finished with value: 0.9410731244064577 and parameters: {'classifier': 'RandomForest', 'rf_max_depth': 14, 'n_estimators': 72}. Best is trial 12 with value: 0.943019943019943.\n",
      "[I 2025-08-31 23:40:16,892] Trial 42 finished with value: 0.9431149097815765 and parameters: {'classifier': 'RandomForest', 'rf_max_depth': 12, 'n_estimators': 63}. Best is trial 42 with value: 0.9431149097815765.\n",
      "[I 2025-08-31 23:40:17,085] Trial 43 finished with value: 0.9395061728395061 and parameters: {'classifier': 'RandomForest', 'rf_max_depth': 12, 'n_estimators': 81}. Best is trial 42 with value: 0.9431149097815765.\n",
      "[I 2025-08-31 23:40:17,263] Trial 44 finished with value: 0.936372269705603 and parameters: {'classifier': 'RandomForest', 'rf_max_depth': 15, 'n_estimators': 65}. Best is trial 42 with value: 0.9431149097815765.\n",
      "[I 2025-08-31 23:40:17,573] Trial 45 finished with value: 0.9371320037986705 and parameters: {'classifier': 'RandomForest', 'rf_max_depth': 10, 'n_estimators': 134}. Best is trial 42 with value: 0.9431149097815765.\n",
      "[I 2025-08-31 23:40:18,009] Trial 46 finished with value: 0.9380816714150048 and parameters: {'classifier': 'RandomForest', 'rf_max_depth': 14, 'n_estimators': 164}. Best is trial 42 with value: 0.9431149097815765.\n",
      "[I 2025-08-31 23:40:18,240] Trial 47 finished with value: 0.9232668566001899 and parameters: {'classifier': 'XGB', 'xgb_max_depth': 13, 'xgb_n_estimators': 252}. Best is trial 42 with value: 0.9431149097815765.\n",
      "[I 2025-08-31 23:40:18,534] Trial 48 finished with value: 0.9345679012345679 and parameters: {'classifier': 'RandomForest', 'rf_max_depth': 19, 'n_estimators': 87}. Best is trial 42 with value: 0.9431149097815765.\n",
      "[I 2025-08-31 23:40:18,715] Trial 49 finished with value: 0.9411206077872746 and parameters: {'classifier': 'RandomForest', 'rf_max_depth': 12, 'n_estimators': 67}. Best is trial 42 with value: 0.9431149097815765.\n",
      "[I 2025-08-31 23:40:18,976] Trial 50 finished with value: 0.9376068376068376 and parameters: {'classifier': 'RandomForest', 'rf_max_depth': 12, 'n_estimators': 109}. Best is trial 42 with value: 0.9431149097815765.\n",
      "[I 2025-08-31 23:40:19,140] Trial 51 finished with value: 0.936372269705603 and parameters: {'classifier': 'RandomForest', 'rf_max_depth': 15, 'n_estimators': 65}. Best is trial 42 with value: 0.9431149097815765.\n",
      "[I 2025-08-31 23:40:19,297] Trial 52 finished with value: 0.9377492877492878 and parameters: {'classifier': 'RandomForest', 'rf_max_depth': 35, 'n_estimators': 61}. Best is trial 42 with value: 0.9431149097815765.\n",
      "[I 2025-08-31 23:40:19,501] Trial 53 finished with value: 0.934377967711301 and parameters: {'classifier': 'RandomForest', 'rf_max_depth': 10, 'n_estimators': 77}. Best is trial 42 with value: 0.9431149097815765.\n",
      "[I 2025-08-31 23:40:20,014] Trial 54 finished with value: 0.9348528015194681 and parameters: {'classifier': 'RandomForest', 'rf_max_depth': 12, 'n_estimators': 242}. Best is trial 42 with value: 0.9431149097815765.\n",
      "[I 2025-08-31 23:40:20,248] Trial 55 finished with value: 0.9349477682811016 and parameters: {'classifier': 'RandomForest', 'rf_max_depth': 9, 'n_estimators': 106}. Best is trial 42 with value: 0.9431149097815765.\n",
      "[I 2025-08-31 23:40:20,425] Trial 56 finished with value: 0.9368945868945869 and parameters: {'classifier': 'RandomForest', 'rf_max_depth': 17, 'n_estimators': 74}. Best is trial 42 with value: 0.9431149097815765.\n",
      "[I 2025-08-31 23:40:20,559] Trial 57 finished with value: 0.9294396961063628 and parameters: {'classifier': 'RandomForest', 'rf_max_depth': 13, 'n_estimators': 50}. Best is trial 42 with value: 0.9431149097815765.\n",
      "[I 2025-08-31 23:40:20,714] Trial 58 finished with value: 0.9367996201329535 and parameters: {'classifier': 'RandomForest', 'rf_max_depth': 15, 'n_estimators': 61}. Best is trial 42 with value: 0.9431149097815765.\n",
      "[I 2025-08-31 23:40:20,910] Trial 59 finished with value: 0.9345679012345679 and parameters: {'classifier': 'RandomForest', 'rf_max_depth': 11, 'n_estimators': 87}. Best is trial 42 with value: 0.9431149097815765.\n",
      "[I 2025-08-31 23:40:21,536] Trial 60 finished with value: 0.9359449192782526 and parameters: {'classifier': 'RandomForest', 'rf_max_depth': 22, 'n_estimators': 299}. Best is trial 42 with value: 0.9431149097815765.\n",
      "[I 2025-08-31 23:40:21,656] Trial 61 finished with value: 0.9369420702754035 and parameters: {'classifier': 'RandomForest', 'rf_max_depth': 32, 'n_estimators': 51}. Best is trial 42 with value: 0.9431149097815765.\n",
      "[I 2025-08-31 23:40:21,877] Trial 62 finished with value: 0.9407407407407408 and parameters: {'classifier': 'RandomForest', 'rf_max_depth': 7, 'n_estimators': 71}. Best is trial 42 with value: 0.9431149097815765.\n",
      "[I 2025-08-31 23:40:22,056] Trial 63 finished with value: 0.9202279202279202 and parameters: {'classifier': 'RandomForest', 'rf_max_depth': 4, 'n_estimators': 58}. Best is trial 42 with value: 0.9431149097815765.\n",
      "[I 2025-08-31 23:40:22,299] Trial 64 finished with value: 0.9312440645773981 and parameters: {'classifier': 'RandomForest', 'rf_max_depth': 6, 'n_estimators': 79}. Best is trial 42 with value: 0.9431149097815765.\n",
      "[I 2025-08-31 23:40:22,469] Trial 65 finished with value: 0.9338081671415004 and parameters: {'classifier': 'RandomForest', 'rf_max_depth': 8, 'n_estimators': 60}. Best is trial 42 with value: 0.9431149097815765.\n",
      "[I 2025-08-31 23:40:22,626] Trial 66 finished with value: 0.9249762583095917 and parameters: {'classifier': 'XGB', 'xgb_max_depth': 23, 'xgb_n_estimators': 152}. Best is trial 42 with value: 0.9431149097815765.\n",
      "[I 2025-08-31 23:40:22,828] Trial 67 finished with value: 0.9130104463437797 and parameters: {'classifier': 'RandomForest', 'rf_max_depth': 2, 'n_estimators': 73}. Best is trial 42 with value: 0.9431149097815765.\n",
      "[I 2025-08-31 23:40:23,135] Trial 68 finished with value: 0.9355175688509022 and parameters: {'classifier': 'RandomForest', 'rf_max_depth': 9, 'n_estimators': 100}. Best is trial 42 with value: 0.9431149097815765.\n",
      "[I 2025-08-31 23:40:23,337] Trial 69 finished with value: 0.9422602089268756 and parameters: {'classifier': 'RandomForest', 'rf_max_depth': 12, 'n_estimators': 50}. Best is trial 42 with value: 0.9431149097815765.\n",
      "[I 2025-08-31 23:40:23,689] Trial 70 finished with value: 0.938366571699905 and parameters: {'classifier': 'RandomForest', 'rf_max_depth': 12, 'n_estimators': 119}. Best is trial 42 with value: 0.9431149097815765.\n",
      "[I 2025-08-31 23:40:23,890] Trial 71 finished with value: 0.9320037986704652 and parameters: {'classifier': 'RandomForest', 'rf_max_depth': 13, 'n_estimators': 57}. Best is trial 42 with value: 0.9431149097815765.\n",
      "[I 2025-08-31 23:40:24,064] Trial 72 finished with value: 0.9355650522317188 and parameters: {'classifier': 'RandomForest', 'rf_max_depth': 11, 'n_estimators': 52}. Best is trial 42 with value: 0.9431149097815765.\n",
      "[I 2025-08-31 23:40:24,352] Trial 73 finished with value: 0.9394586894586895 and parameters: {'classifier': 'RandomForest', 'rf_max_depth': 14, 'n_estimators': 88}. Best is trial 42 with value: 0.9431149097815765.\n",
      "[I 2025-08-31 23:40:24,626] Trial 74 finished with value: 0.937891737891738 and parameters: {'classifier': 'RandomForest', 'rf_max_depth': 16, 'n_estimators': 71}. Best is trial 42 with value: 0.9431149097815765.\n",
      "[I 2025-08-31 23:40:25,405] Trial 75 finished with value: 0.935232668566002 and parameters: {'classifier': 'RandomForest', 'rf_max_depth': 9, 'n_estimators': 279}. Best is trial 42 with value: 0.9431149097815765.\n",
      "[I 2025-08-31 23:40:25,645] Trial 76 finished with value: 0.9370845204178538 and parameters: {'classifier': 'RandomForest', 'rf_max_depth': 11, 'n_estimators': 64}. Best is trial 42 with value: 0.9431149097815765.\n",
      "[I 2025-08-31 23:40:25,711] Trial 77 finished with value: 0.9326685660018994 and parameters: {'classifier': 'XGB', 'xgb_max_depth': 3, 'xgb_n_estimators': 52}. Best is trial 42 with value: 0.9431149097815765.\n",
      "[I 2025-08-31 23:40:25,945] Trial 78 finished with value: 0.9398860398860399 and parameters: {'classifier': 'RandomForest', 'rf_max_depth': 14, 'n_estimators': 81}. Best is trial 42 with value: 0.9431149097815765.\n",
      "[I 2025-08-31 23:40:26,070] Trial 79 finished with value: 0.9376543209876543 and parameters: {'classifier': 'RandomForest', 'rf_max_depth': 17, 'n_estimators': 50}. Best is trial 42 with value: 0.9431149097815765.\n",
      "[I 2025-08-31 23:40:26,438] Trial 80 finished with value: 0.937037037037037 and parameters: {'classifier': 'RandomForest', 'rf_max_depth': 7, 'n_estimators': 178}. Best is trial 42 with value: 0.9431149097815765.\n",
      "[I 2025-08-31 23:40:26,623] Trial 81 finished with value: 0.9407407407407408 and parameters: {'classifier': 'RandomForest', 'rf_max_depth': 7, 'n_estimators': 71}. Best is trial 42 with value: 0.9431149097815765.\n",
      "[I 2025-08-31 23:40:26,773] Trial 82 finished with value: 0.91994301994302 and parameters: {'classifier': 'RandomForest', 'rf_max_depth': 4, 'n_estimators': 60}. Best is trial 42 with value: 0.9431149097815765.\n",
      "[I 2025-08-31 23:40:26,949] Trial 83 finished with value: 0.9351851851851852 and parameters: {'classifier': 'RandomForest', 'rf_max_depth': 11, 'n_estimators': 68}. Best is trial 42 with value: 0.9431149097815765.\n",
      "[I 2025-08-31 23:40:27,129] Trial 84 finished with value: 0.9410256410256411 and parameters: {'classifier': 'RandomForest', 'rf_max_depth': 7, 'n_estimators': 74}. Best is trial 42 with value: 0.9431149097815765.\n",
      "[I 2025-08-31 23:40:27,296] Trial 85 finished with value: 0.9353276353276353 and parameters: {'classifier': 'RandomForest', 'rf_max_depth': 10, 'n_estimators': 56}. Best is trial 42 with value: 0.9431149097815765.\n",
      "[I 2025-08-31 23:40:27,480] Trial 86 finished with value: 0.9344729344729344 and parameters: {'classifier': 'RandomForest', 'rf_max_depth': 13, 'n_estimators': 84}. Best is trial 42 with value: 0.9431149097815765.\n",
      "[I 2025-08-31 23:40:27,886] Trial 87 finished with value: 0.9309591642924977 and parameters: {'classifier': 'RandomForest', 'rf_max_depth': 5, 'n_estimators': 188}. Best is trial 42 with value: 0.9431149097815765.\n",
      "[I 2025-08-31 23:40:28,080] Trial 88 finished with value: 0.923076923076923 and parameters: {'classifier': 'XGB', 'xgb_max_depth': 12, 'xgb_n_estimators': 260}. Best is trial 42 with value: 0.9431149097815765.\n",
      "[I 2025-08-31 23:40:28,362] Trial 89 finished with value: 0.9360398860398861 and parameters: {'classifier': 'RandomForest', 'rf_max_depth': 15, 'n_estimators': 99}. Best is trial 42 with value: 0.9431149097815765.\n",
      "[I 2025-08-31 23:40:28,685] Trial 90 finished with value: 0.9341880341880342 and parameters: {'classifier': 'RandomForest', 'rf_max_depth': 9, 'n_estimators': 154}. Best is trial 42 with value: 0.9431149097815765.\n",
      "[I 2025-08-31 23:40:28,852] Trial 91 finished with value: 0.941025641025641 and parameters: {'classifier': 'RandomForest', 'rf_max_depth': 7, 'n_estimators': 75}. Best is trial 42 with value: 0.9431149097815765.\n",
      "[I 2025-08-31 23:40:29,022] Trial 92 finished with value: 0.9312440645773981 and parameters: {'classifier': 'RandomForest', 'rf_max_depth': 6, 'n_estimators': 78}. Best is trial 42 with value: 0.9431149097815765.\n",
      "[I 2025-08-31 23:40:29,172] Trial 93 finished with value: 0.9348528015194683 and parameters: {'classifier': 'RandomForest', 'rf_max_depth': 8, 'n_estimators': 64}. Best is trial 42 with value: 0.9431149097815765.\n",
      "[I 2025-08-31 23:40:29,371] Trial 94 finished with value: 0.9380816714150048 and parameters: {'classifier': 'RandomForest', 'rf_max_depth': 12, 'n_estimators': 90}. Best is trial 42 with value: 0.9431149097815765.\n",
      "[I 2025-08-31 23:40:29,512] Trial 95 finished with value: 0.9351377018043685 and parameters: {'classifier': 'RandomForest', 'rf_max_depth': 10, 'n_estimators': 57}. Best is trial 42 with value: 0.9431149097815765.\n",
      "[I 2025-08-31 23:40:29,677] Trial 96 finished with value: 0.9287749287749288 and parameters: {'classifier': 'RandomForest', 'rf_max_depth': 5, 'n_estimators': 74}. Best is trial 42 with value: 0.9431149097815765.\n",
      "[I 2025-08-31 23:40:29,835] Trial 97 finished with value: 0.9411206077872746 and parameters: {'classifier': 'RandomForest', 'rf_max_depth': 12, 'n_estimators': 67}. Best is trial 42 with value: 0.9431149097815765.\n",
      "[I 2025-08-31 23:40:29,991] Trial 98 finished with value: 0.9317663817663817 and parameters: {'classifier': 'RandomForest', 'rf_max_depth': 13, 'n_estimators': 66}. Best is trial 42 with value: 0.9431149097815765.\n",
      "[I 2025-08-31 23:40:30,173] Trial 99 finished with value: 0.9399810066476734 and parameters: {'classifier': 'RandomForest', 'rf_max_depth': 14, 'n_estimators': 83}. Best is trial 42 with value: 0.9431149097815765.\n"
     ]
    },
    {
     "name": "stdout",
     "output_type": "stream",
     "text": [
      "Best classifier: RandomForest\n",
      "Best hyperparameters: {'classifier': 'RandomForest', 'rf_max_depth': 12, 'n_estimators': 63}\n",
      "Best score: 0.9431149097815765\n"
     ]
    }
   ],
   "source": [
    "# hyperparameter tuning of RandomForest and XGBoost: Optuna\n",
    "def objective(trial):\n",
    "    classifier_name = trial.suggest_categorical(\"classifier\", [\"XGB\", \"RandomForest\"])\n",
    "\n",
    "    if classifier_name == \"XGB\":\n",
    "        xgb_max_depth = trial.suggest_int(\"xgb_max_depth\", 3,35)\n",
    "        xgb_n_estimators = trial.suggest_int(\"xgb_n_estimators\", 50,300)\n",
    "        classifier_obj = xgb.XGBClassifier(\n",
    "            max_depth=xgb_max_depth,\n",
    "            n_estimators=xgb_n_estimators)\n",
    "    else:\n",
    "        rf_max_depth = trial.suggest_int(\"rf_max_depth\", 2, 35)\n",
    "        n_estimators = trial.suggest_int(\"n_estimators\", 50, 300)\n",
    "        classifier_obj = RandomForestClassifier(\n",
    "            max_depth=rf_max_depth,\n",
    "            n_estimators=n_estimators,\n",
    "            random_state=42)\n",
    "\n",
    "    classifier_obj.fit(X_train_prep, y_train_prep)\n",
    "    preds = classifier_obj.predict_proba(X_test_prep)\n",
    "    roc_auc = roc_auc_score(y_test_prep, preds[:,1])\n",
    "    return roc_auc\n",
    "\n",
    "study = optuna.create_study(direction=\"maximize\")\n",
    "study.optimize(objective, n_trials=100)\n",
    "\n",
    "\n",
    "print(\"Best classifier:\", study.best_params[\"classifier\"])\n",
    "print(\"Best hyperparameters:\", study.best_params)\n",
    "print(\"Best score:\", study.best_value)\n"
   ]
  },
  {
   "cell_type": "code",
   "execution_count": 44,
   "id": "5b8f0c6a-a799-4cc3-ad33-8e94b4b110ae",
   "metadata": {},
   "outputs": [
    {
     "name": "stdout",
     "output_type": "stream",
     "text": [
      "=> Improvement due to hyperparameter tuning.\n"
     ]
    }
   ],
   "source": [
    "# evaluate potential improvement due to hyperparameter tuning\n",
    "if study.best_value > model_dic[study.best_params[\"classifier\"]+\"Classifier\"][-1]:\n",
    "    print(\"=> Improvement due to hyperparameter tuning.\")\n",
    "else:\n",
    "    print(\"=> No improvement due to hyperparameter tuning.\")"
   ]
  },
  {
   "cell_type": "code",
   "execution_count": 45,
   "id": "95fbb2e0-202e-4809-9d4a-38820c14b066",
   "metadata": {},
   "outputs": [
    {
     "data": {
      "text/html": [
       "<style>#sk-container-id-1 {\n",
       "  /* Definition of color scheme common for light and dark mode */\n",
       "  --sklearn-color-text: black;\n",
       "  --sklearn-color-line: gray;\n",
       "  /* Definition of color scheme for unfitted estimators */\n",
       "  --sklearn-color-unfitted-level-0: #fff5e6;\n",
       "  --sklearn-color-unfitted-level-1: #f6e4d2;\n",
       "  --sklearn-color-unfitted-level-2: #ffe0b3;\n",
       "  --sklearn-color-unfitted-level-3: chocolate;\n",
       "  /* Definition of color scheme for fitted estimators */\n",
       "  --sklearn-color-fitted-level-0: #f0f8ff;\n",
       "  --sklearn-color-fitted-level-1: #d4ebff;\n",
       "  --sklearn-color-fitted-level-2: #b3dbfd;\n",
       "  --sklearn-color-fitted-level-3: cornflowerblue;\n",
       "\n",
       "  /* Specific color for light theme */\n",
       "  --sklearn-color-text-on-default-background: var(--sg-text-color, var(--theme-code-foreground, var(--jp-content-font-color1, black)));\n",
       "  --sklearn-color-background: var(--sg-background-color, var(--theme-background, var(--jp-layout-color0, white)));\n",
       "  --sklearn-color-border-box: var(--sg-text-color, var(--theme-code-foreground, var(--jp-content-font-color1, black)));\n",
       "  --sklearn-color-icon: #696969;\n",
       "\n",
       "  @media (prefers-color-scheme: dark) {\n",
       "    /* Redefinition of color scheme for dark theme */\n",
       "    --sklearn-color-text-on-default-background: var(--sg-text-color, var(--theme-code-foreground, var(--jp-content-font-color1, white)));\n",
       "    --sklearn-color-background: var(--sg-background-color, var(--theme-background, var(--jp-layout-color0, #111)));\n",
       "    --sklearn-color-border-box: var(--sg-text-color, var(--theme-code-foreground, var(--jp-content-font-color1, white)));\n",
       "    --sklearn-color-icon: #878787;\n",
       "  }\n",
       "}\n",
       "\n",
       "#sk-container-id-1 {\n",
       "  color: var(--sklearn-color-text);\n",
       "}\n",
       "\n",
       "#sk-container-id-1 pre {\n",
       "  padding: 0;\n",
       "}\n",
       "\n",
       "#sk-container-id-1 input.sk-hidden--visually {\n",
       "  border: 0;\n",
       "  clip: rect(1px 1px 1px 1px);\n",
       "  clip: rect(1px, 1px, 1px, 1px);\n",
       "  height: 1px;\n",
       "  margin: -1px;\n",
       "  overflow: hidden;\n",
       "  padding: 0;\n",
       "  position: absolute;\n",
       "  width: 1px;\n",
       "}\n",
       "\n",
       "#sk-container-id-1 div.sk-dashed-wrapped {\n",
       "  border: 1px dashed var(--sklearn-color-line);\n",
       "  margin: 0 0.4em 0.5em 0.4em;\n",
       "  box-sizing: border-box;\n",
       "  padding-bottom: 0.4em;\n",
       "  background-color: var(--sklearn-color-background);\n",
       "}\n",
       "\n",
       "#sk-container-id-1 div.sk-container {\n",
       "  /* jupyter's `normalize.less` sets `[hidden] { display: none; }`\n",
       "     but bootstrap.min.css set `[hidden] { display: none !important; }`\n",
       "     so we also need the `!important` here to be able to override the\n",
       "     default hidden behavior on the sphinx rendered scikit-learn.org.\n",
       "     See: https://github.com/scikit-learn/scikit-learn/issues/21755 */\n",
       "  display: inline-block !important;\n",
       "  position: relative;\n",
       "}\n",
       "\n",
       "#sk-container-id-1 div.sk-text-repr-fallback {\n",
       "  display: none;\n",
       "}\n",
       "\n",
       "div.sk-parallel-item,\n",
       "div.sk-serial,\n",
       "div.sk-item {\n",
       "  /* draw centered vertical line to link estimators */\n",
       "  background-image: linear-gradient(var(--sklearn-color-text-on-default-background), var(--sklearn-color-text-on-default-background));\n",
       "  background-size: 2px 100%;\n",
       "  background-repeat: no-repeat;\n",
       "  background-position: center center;\n",
       "}\n",
       "\n",
       "/* Parallel-specific style estimator block */\n",
       "\n",
       "#sk-container-id-1 div.sk-parallel-item::after {\n",
       "  content: \"\";\n",
       "  width: 100%;\n",
       "  border-bottom: 2px solid var(--sklearn-color-text-on-default-background);\n",
       "  flex-grow: 1;\n",
       "}\n",
       "\n",
       "#sk-container-id-1 div.sk-parallel {\n",
       "  display: flex;\n",
       "  align-items: stretch;\n",
       "  justify-content: center;\n",
       "  background-color: var(--sklearn-color-background);\n",
       "  position: relative;\n",
       "}\n",
       "\n",
       "#sk-container-id-1 div.sk-parallel-item {\n",
       "  display: flex;\n",
       "  flex-direction: column;\n",
       "}\n",
       "\n",
       "#sk-container-id-1 div.sk-parallel-item:first-child::after {\n",
       "  align-self: flex-end;\n",
       "  width: 50%;\n",
       "}\n",
       "\n",
       "#sk-container-id-1 div.sk-parallel-item:last-child::after {\n",
       "  align-self: flex-start;\n",
       "  width: 50%;\n",
       "}\n",
       "\n",
       "#sk-container-id-1 div.sk-parallel-item:only-child::after {\n",
       "  width: 0;\n",
       "}\n",
       "\n",
       "/* Serial-specific style estimator block */\n",
       "\n",
       "#sk-container-id-1 div.sk-serial {\n",
       "  display: flex;\n",
       "  flex-direction: column;\n",
       "  align-items: center;\n",
       "  background-color: var(--sklearn-color-background);\n",
       "  padding-right: 1em;\n",
       "  padding-left: 1em;\n",
       "}\n",
       "\n",
       "\n",
       "/* Toggleable style: style used for estimator/Pipeline/ColumnTransformer box that is\n",
       "clickable and can be expanded/collapsed.\n",
       "- Pipeline and ColumnTransformer use this feature and define the default style\n",
       "- Estimators will overwrite some part of the style using the `sk-estimator` class\n",
       "*/\n",
       "\n",
       "/* Pipeline and ColumnTransformer style (default) */\n",
       "\n",
       "#sk-container-id-1 div.sk-toggleable {\n",
       "  /* Default theme specific background. It is overwritten whether we have a\n",
       "  specific estimator or a Pipeline/ColumnTransformer */\n",
       "  background-color: var(--sklearn-color-background);\n",
       "}\n",
       "\n",
       "/* Toggleable label */\n",
       "#sk-container-id-1 label.sk-toggleable__label {\n",
       "  cursor: pointer;\n",
       "  display: block;\n",
       "  width: 100%;\n",
       "  margin-bottom: 0;\n",
       "  padding: 0.5em;\n",
       "  box-sizing: border-box;\n",
       "  text-align: center;\n",
       "}\n",
       "\n",
       "#sk-container-id-1 label.sk-toggleable__label-arrow:before {\n",
       "  /* Arrow on the left of the label */\n",
       "  content: \"▸\";\n",
       "  float: left;\n",
       "  margin-right: 0.25em;\n",
       "  color: var(--sklearn-color-icon);\n",
       "}\n",
       "\n",
       "#sk-container-id-1 label.sk-toggleable__label-arrow:hover:before {\n",
       "  color: var(--sklearn-color-text);\n",
       "}\n",
       "\n",
       "/* Toggleable content - dropdown */\n",
       "\n",
       "#sk-container-id-1 div.sk-toggleable__content {\n",
       "  max-height: 0;\n",
       "  max-width: 0;\n",
       "  overflow: hidden;\n",
       "  text-align: left;\n",
       "  /* unfitted */\n",
       "  background-color: var(--sklearn-color-unfitted-level-0);\n",
       "}\n",
       "\n",
       "#sk-container-id-1 div.sk-toggleable__content.fitted {\n",
       "  /* fitted */\n",
       "  background-color: var(--sklearn-color-fitted-level-0);\n",
       "}\n",
       "\n",
       "#sk-container-id-1 div.sk-toggleable__content pre {\n",
       "  margin: 0.2em;\n",
       "  border-radius: 0.25em;\n",
       "  color: var(--sklearn-color-text);\n",
       "  /* unfitted */\n",
       "  background-color: var(--sklearn-color-unfitted-level-0);\n",
       "}\n",
       "\n",
       "#sk-container-id-1 div.sk-toggleable__content.fitted pre {\n",
       "  /* unfitted */\n",
       "  background-color: var(--sklearn-color-fitted-level-0);\n",
       "}\n",
       "\n",
       "#sk-container-id-1 input.sk-toggleable__control:checked~div.sk-toggleable__content {\n",
       "  /* Expand drop-down */\n",
       "  max-height: 200px;\n",
       "  max-width: 100%;\n",
       "  overflow: auto;\n",
       "}\n",
       "\n",
       "#sk-container-id-1 input.sk-toggleable__control:checked~label.sk-toggleable__label-arrow:before {\n",
       "  content: \"▾\";\n",
       "}\n",
       "\n",
       "/* Pipeline/ColumnTransformer-specific style */\n",
       "\n",
       "#sk-container-id-1 div.sk-label input.sk-toggleable__control:checked~label.sk-toggleable__label {\n",
       "  color: var(--sklearn-color-text);\n",
       "  background-color: var(--sklearn-color-unfitted-level-2);\n",
       "}\n",
       "\n",
       "#sk-container-id-1 div.sk-label.fitted input.sk-toggleable__control:checked~label.sk-toggleable__label {\n",
       "  background-color: var(--sklearn-color-fitted-level-2);\n",
       "}\n",
       "\n",
       "/* Estimator-specific style */\n",
       "\n",
       "/* Colorize estimator box */\n",
       "#sk-container-id-1 div.sk-estimator input.sk-toggleable__control:checked~label.sk-toggleable__label {\n",
       "  /* unfitted */\n",
       "  background-color: var(--sklearn-color-unfitted-level-2);\n",
       "}\n",
       "\n",
       "#sk-container-id-1 div.sk-estimator.fitted input.sk-toggleable__control:checked~label.sk-toggleable__label {\n",
       "  /* fitted */\n",
       "  background-color: var(--sklearn-color-fitted-level-2);\n",
       "}\n",
       "\n",
       "#sk-container-id-1 div.sk-label label.sk-toggleable__label,\n",
       "#sk-container-id-1 div.sk-label label {\n",
       "  /* The background is the default theme color */\n",
       "  color: var(--sklearn-color-text-on-default-background);\n",
       "}\n",
       "\n",
       "/* On hover, darken the color of the background */\n",
       "#sk-container-id-1 div.sk-label:hover label.sk-toggleable__label {\n",
       "  color: var(--sklearn-color-text);\n",
       "  background-color: var(--sklearn-color-unfitted-level-2);\n",
       "}\n",
       "\n",
       "/* Label box, darken color on hover, fitted */\n",
       "#sk-container-id-1 div.sk-label.fitted:hover label.sk-toggleable__label.fitted {\n",
       "  color: var(--sklearn-color-text);\n",
       "  background-color: var(--sklearn-color-fitted-level-2);\n",
       "}\n",
       "\n",
       "/* Estimator label */\n",
       "\n",
       "#sk-container-id-1 div.sk-label label {\n",
       "  font-family: monospace;\n",
       "  font-weight: bold;\n",
       "  display: inline-block;\n",
       "  line-height: 1.2em;\n",
       "}\n",
       "\n",
       "#sk-container-id-1 div.sk-label-container {\n",
       "  text-align: center;\n",
       "}\n",
       "\n",
       "/* Estimator-specific */\n",
       "#sk-container-id-1 div.sk-estimator {\n",
       "  font-family: monospace;\n",
       "  border: 1px dotted var(--sklearn-color-border-box);\n",
       "  border-radius: 0.25em;\n",
       "  box-sizing: border-box;\n",
       "  margin-bottom: 0.5em;\n",
       "  /* unfitted */\n",
       "  background-color: var(--sklearn-color-unfitted-level-0);\n",
       "}\n",
       "\n",
       "#sk-container-id-1 div.sk-estimator.fitted {\n",
       "  /* fitted */\n",
       "  background-color: var(--sklearn-color-fitted-level-0);\n",
       "}\n",
       "\n",
       "/* on hover */\n",
       "#sk-container-id-1 div.sk-estimator:hover {\n",
       "  /* unfitted */\n",
       "  background-color: var(--sklearn-color-unfitted-level-2);\n",
       "}\n",
       "\n",
       "#sk-container-id-1 div.sk-estimator.fitted:hover {\n",
       "  /* fitted */\n",
       "  background-color: var(--sklearn-color-fitted-level-2);\n",
       "}\n",
       "\n",
       "/* Specification for estimator info (e.g. \"i\" and \"?\") */\n",
       "\n",
       "/* Common style for \"i\" and \"?\" */\n",
       "\n",
       ".sk-estimator-doc-link,\n",
       "a:link.sk-estimator-doc-link,\n",
       "a:visited.sk-estimator-doc-link {\n",
       "  float: right;\n",
       "  font-size: smaller;\n",
       "  line-height: 1em;\n",
       "  font-family: monospace;\n",
       "  background-color: var(--sklearn-color-background);\n",
       "  border-radius: 1em;\n",
       "  height: 1em;\n",
       "  width: 1em;\n",
       "  text-decoration: none !important;\n",
       "  margin-left: 1ex;\n",
       "  /* unfitted */\n",
       "  border: var(--sklearn-color-unfitted-level-1) 1pt solid;\n",
       "  color: var(--sklearn-color-unfitted-level-1);\n",
       "}\n",
       "\n",
       ".sk-estimator-doc-link.fitted,\n",
       "a:link.sk-estimator-doc-link.fitted,\n",
       "a:visited.sk-estimator-doc-link.fitted {\n",
       "  /* fitted */\n",
       "  border: var(--sklearn-color-fitted-level-1) 1pt solid;\n",
       "  color: var(--sklearn-color-fitted-level-1);\n",
       "}\n",
       "\n",
       "/* On hover */\n",
       "div.sk-estimator:hover .sk-estimator-doc-link:hover,\n",
       ".sk-estimator-doc-link:hover,\n",
       "div.sk-label-container:hover .sk-estimator-doc-link:hover,\n",
       ".sk-estimator-doc-link:hover {\n",
       "  /* unfitted */\n",
       "  background-color: var(--sklearn-color-unfitted-level-3);\n",
       "  color: var(--sklearn-color-background);\n",
       "  text-decoration: none;\n",
       "}\n",
       "\n",
       "div.sk-estimator.fitted:hover .sk-estimator-doc-link.fitted:hover,\n",
       ".sk-estimator-doc-link.fitted:hover,\n",
       "div.sk-label-container:hover .sk-estimator-doc-link.fitted:hover,\n",
       ".sk-estimator-doc-link.fitted:hover {\n",
       "  /* fitted */\n",
       "  background-color: var(--sklearn-color-fitted-level-3);\n",
       "  color: var(--sklearn-color-background);\n",
       "  text-decoration: none;\n",
       "}\n",
       "\n",
       "/* Span, style for the box shown on hovering the info icon */\n",
       ".sk-estimator-doc-link span {\n",
       "  display: none;\n",
       "  z-index: 9999;\n",
       "  position: relative;\n",
       "  font-weight: normal;\n",
       "  right: .2ex;\n",
       "  padding: .5ex;\n",
       "  margin: .5ex;\n",
       "  width: min-content;\n",
       "  min-width: 20ex;\n",
       "  max-width: 50ex;\n",
       "  color: var(--sklearn-color-text);\n",
       "  box-shadow: 2pt 2pt 4pt #999;\n",
       "  /* unfitted */\n",
       "  background: var(--sklearn-color-unfitted-level-0);\n",
       "  border: .5pt solid var(--sklearn-color-unfitted-level-3);\n",
       "}\n",
       "\n",
       ".sk-estimator-doc-link.fitted span {\n",
       "  /* fitted */\n",
       "  background: var(--sklearn-color-fitted-level-0);\n",
       "  border: var(--sklearn-color-fitted-level-3);\n",
       "}\n",
       "\n",
       ".sk-estimator-doc-link:hover span {\n",
       "  display: block;\n",
       "}\n",
       "\n",
       "/* \"?\"-specific style due to the `<a>` HTML tag */\n",
       "\n",
       "#sk-container-id-1 a.estimator_doc_link {\n",
       "  float: right;\n",
       "  font-size: 1rem;\n",
       "  line-height: 1em;\n",
       "  font-family: monospace;\n",
       "  background-color: var(--sklearn-color-background);\n",
       "  border-radius: 1rem;\n",
       "  height: 1rem;\n",
       "  width: 1rem;\n",
       "  text-decoration: none;\n",
       "  /* unfitted */\n",
       "  color: var(--sklearn-color-unfitted-level-1);\n",
       "  border: var(--sklearn-color-unfitted-level-1) 1pt solid;\n",
       "}\n",
       "\n",
       "#sk-container-id-1 a.estimator_doc_link.fitted {\n",
       "  /* fitted */\n",
       "  border: var(--sklearn-color-fitted-level-1) 1pt solid;\n",
       "  color: var(--sklearn-color-fitted-level-1);\n",
       "}\n",
       "\n",
       "/* On hover */\n",
       "#sk-container-id-1 a.estimator_doc_link:hover {\n",
       "  /* unfitted */\n",
       "  background-color: var(--sklearn-color-unfitted-level-3);\n",
       "  color: var(--sklearn-color-background);\n",
       "  text-decoration: none;\n",
       "}\n",
       "\n",
       "#sk-container-id-1 a.estimator_doc_link.fitted:hover {\n",
       "  /* fitted */\n",
       "  background-color: var(--sklearn-color-fitted-level-3);\n",
       "}\n",
       "</style><div id=\"sk-container-id-1\" class=\"sk-top-container\"><div class=\"sk-text-repr-fallback\"><pre>RandomForestClassifier(max_depth=12, n_estimators=63)</pre><b>In a Jupyter environment, please rerun this cell to show the HTML representation or trust the notebook. <br />On GitHub, the HTML representation is unable to render, please try loading this page with nbviewer.org.</b></div><div class=\"sk-container\" hidden><div class=\"sk-item\"><div class=\"sk-estimator fitted sk-toggleable\"><input class=\"sk-toggleable__control sk-hidden--visually\" id=\"sk-estimator-id-1\" type=\"checkbox\" checked><label for=\"sk-estimator-id-1\" class=\"sk-toggleable__label fitted sk-toggleable__label-arrow fitted\">&nbsp;&nbsp;RandomForestClassifier<a class=\"sk-estimator-doc-link fitted\" rel=\"noreferrer\" target=\"_blank\" href=\"https://scikit-learn.org/1.5/modules/generated/sklearn.ensemble.RandomForestClassifier.html\">?<span>Documentation for RandomForestClassifier</span></a><span class=\"sk-estimator-doc-link fitted\">i<span>Fitted</span></span></label><div class=\"sk-toggleable__content fitted\"><pre>RandomForestClassifier(max_depth=12, n_estimators=63)</pre></div> </div></div></div></div>"
      ],
      "text/plain": [
       "RandomForestClassifier(max_depth=12, n_estimators=63)"
      ]
     },
     "execution_count": 45,
     "metadata": {},
     "output_type": "execute_result"
    }
   ],
   "source": [
    "# setting up the final model\n",
    "final_model = RandomForestClassifier(\n",
    "        max_depth=study.best_params[\"rf_max_depth\"],\n",
    "        n_estimators=study.best_params[\"n_estimators\"])\n",
    "    \n",
    "final_model.fit(X_train_prep,y_train_prep)"
   ]
  },
  {
   "cell_type": "code",
   "execution_count": 46,
   "id": "39cf37ed-9c98-4277-87e5-8111b0b38a49",
   "metadata": {},
   "outputs": [],
   "source": [
    "# checking feature importance"
   ]
  },
  {
   "cell_type": "code",
   "execution_count": 47,
   "id": "d1a7d909-a25f-4047-8ef1-6a498c607271",
   "metadata": {},
   "outputs": [
    {
     "name": "stdout",
     "output_type": "stream",
     "text": [
      "7 out of 38 features contribute to 79.6%.\n"
     ]
    }
   ],
   "source": [
    "value=final_model.feature_importances_\n",
    "index=feature_names\n",
    "imp_feat=pd.DataFrame(data=value, index=index).sort_values(0,ascending=False)\n",
    "imp_feat[\"cumsum\"]=imp_feat.cumsum()\n",
    "most_imp_feat=imp_feat[imp_feat[\"cumsum\"]<=0.80]\n",
    "print(f\"{len(most_imp_feat)} out of {len(index)} features contribute to {(most_imp_feat.iloc[-1,1])*100:.1f}%.\")"
   ]
  },
  {
   "cell_type": "code",
   "execution_count": 48,
   "id": "f9613047-f92e-4ff2-b13b-0cce3d258a40",
   "metadata": {},
   "outputs": [
    {
     "data": {
      "text/plain": [
       "array([-1.68091168e-03, -5.50807217e-04, -1.89933523e-05, -7.69230769e-04,\n",
       "       -1.50047483e-03,  9.49667616e-06, -2.59259259e-03, -5.50807217e-04,\n",
       "       -2.76353276e-03,  2.03228870e-03,  1.13960114e-04,  9.68660969e-04,\n",
       "       -9.59164292e-04,  5.69800570e-05,  3.51377018e-04, -3.13390313e-04,\n",
       "       -9.78157645e-04,  0.00000000e+00, -8.26210826e-04,  3.33333333e-03,\n",
       "        7.78727445e-04,  0.00000000e+00,  5.88793922e-04,  2.56410256e-04,\n",
       "       -6.07787274e-04,  0.00000000e+00,  0.00000000e+00, -2.56410256e-04,\n",
       "        0.00000000e+00,  2.12374169e-01, -8.64197531e-04,  2.22222222e-03,\n",
       "        1.69040836e-03,  4.38746439e-03,  1.65527066e-02,  1.69800570e-02,\n",
       "        6.90408357e-03,  6.08736942e-03])"
      ]
     },
     "execution_count": 48,
     "metadata": {},
     "output_type": "execute_result"
    }
   ],
   "source": [
    "# permutation\n",
    "from sklearn.inspection import permutation_importance\n",
    "result = permutation_importance(final_model, X_test_prep, y_test_prep, scoring='roc_auc')\n",
    "value_perm=result[\"importances_mean\"]\n",
    "value_perm"
   ]
  },
  {
   "cell_type": "code",
   "execution_count": 49,
   "id": "606891fb-a91a-4934-a774-9248b45ff19d",
   "metadata": {},
   "outputs": [
    {
     "data": {
      "text/plain": [
       "cat__f9_t     0.770341\n",
       "num__f8       0.831932\n",
       "num__f3       0.891974\n",
       "num__f11      0.917017\n",
       "num__f13      0.939097\n",
       "num__f2       0.955012\n",
       "cat__f6_x     0.967103\n",
       "cat__f12_p    0.975164\n",
       "cat__f6_d     0.982535\n",
       "cat__f12_s    0.988667\n",
       "cat__f6_f     0.992181\n",
       "cat__f7_b     0.995005\n",
       "cat__f7_f     0.997141\n",
       "cat__f6_k     0.998415\n",
       "cat__f7_h     0.999346\n",
       "cat__f6_e     0.999759\n",
       "cat__f6_j     0.999966\n",
       "cat__f5_g     1.000000\n",
       "Name: cumsum, dtype: float64"
      ]
     },
     "execution_count": 49,
     "metadata": {},
     "output_type": "execute_result"
    }
   ],
   "source": [
    "# result processing: clip to positive results, normalize and cumulate values to determin top features\n",
    "perm_feat=pd.DataFrame(data=value_perm,index=index).sort_values(0,ascending=False)\n",
    "perm_feat=perm_feat[perm_feat[0]>0]\n",
    "perm_feat[\"norm\"]=perm_feat[0]/(perm_feat[0].sum())\n",
    "perm_feat[\"cumsum\"]=perm_feat[\"norm\"].cumsum()\n",
    "perm_feat[\"cumsum\"]"
   ]
  },
  {
   "cell_type": "code",
   "execution_count": 50,
   "id": "fbc3d5c7-49b9-4a64-b42c-6af562956f8e",
   "metadata": {},
   "outputs": [
    {
     "name": "stdout",
     "output_type": "stream",
     "text": [
      "common top features -> {'num__f8', 'num__f11', 'cat__f9_t', 'num__f13', 'num__f3'}\n"
     ]
    }
   ],
   "source": [
    "# synergy between the top five features from .feature_importances_ and permutation\n",
    "top_perm_feat=set(perm_feat.index.tolist()[0:5])\n",
    "top_imp_feat=set(imp_feat.index.tolist()[0:5])\n",
    "top_feat_join=top_imp_feat & top_perm_feat\n",
    "print(f\"common top features -> {top_feat_join}\")"
   ]
  },
  {
   "cell_type": "code",
   "execution_count": 51,
   "id": "04589c03-0c2d-4b3b-ab45-57db1fcfd32d",
   "metadata": {},
   "outputs": [],
   "source": [
    "# explainability via SHAP\n",
    "import shap\n",
    "\n",
    "# prepare X data\n",
    "X_test_df=pd.DataFrame(data=X_test_prep,columns=feature_names) #X_test_prep must be a DataFrame with column names\n",
    "X_train_df=pd.DataFrame(data=X_train_prep,columns=feature_names) #X_train_prep must be a DataFrame with column names"
   ]
  },
  {
   "cell_type": "code",
   "execution_count": 52,
   "id": "0cf1572f-289c-401b-b170-79355ccbe174",
   "metadata": {},
   "outputs": [
    {
     "data": {
      "image/png": "[encoded data removed]",
      "text/plain": [
       "<Figure size 640x480 with 1 Axes>"
      ]
     },
     "metadata": {},
     "output_type": "display_data"
    }
   ],
   "source": [
    "# which features influence a prediction toward class 1\n",
    "explainer = shap.TreeExplainer(final_model, X_train_df)\n",
    "shap_values = explainer(X_test_df)\n",
    "value_mean=np.abs(shap_values[:,:,1]).mean(axis=0)\n",
    "sns.barplot(y=value,x=feature_names,color=\"black\")\n",
    "plt.xticks(rotation=90)\n",
    "plt.ylabel(\"mean(|SHAP value|)\")\n",
    "plt.show()"
   ]
  },
  {
   "cell_type": "code",
   "execution_count": 53,
   "id": "83f282a4-967b-49f4-a22a-e2420444107c",
   "metadata": {},
   "outputs": [
    {
     "data": {
      "image/png": "[encoded data removed]",
      "text/plain": [
       "<Figure size 800x650 with 1 Axes>"
      ]
     },
     "metadata": {},
     "output_type": "display_data"
    }
   ],
   "source": [
    "# what features influence the model’s actual behaviour\n",
    "explainer = shap.TreeExplainer(final_model, X_train_df)\n",
    "shap_values = explainer(X_test_df)\n",
    "preds = final_model.predict(X_test_prep)\n",
    "new_shap_values = []\n",
    "for i, pred in enumerate(preds):\n",
    "    new_shap_values.append(shap_values.values[i][:,pred])#\n",
    "shap_values.values = np.array(new_shap_values)\n",
    "shap.plots.bar(shap_values)"
   ]
  },
  {
   "cell_type": "code",
   "execution_count": 54,
   "id": "d5ed227e-fa55-48ec-b128-8abd7230f8fd",
   "metadata": {},
   "outputs": [],
   "source": [
    "# principal component analysis & dimension reduction\n",
    "    # mainly for practice purposes since accor. to literature:\n",
    "    # tree-based models often perform better without PCA as they handle high-dimensional data well"
   ]
  },
  {
   "cell_type": "code",
   "execution_count": 55,
   "id": "bad071d5-a38b-4905-bc99-e49586457013",
   "metadata": {},
   "outputs": [],
   "source": [
    "# inspecting variance visually on the full X dataset \n",
    "from sklearn.decomposition import PCA\n",
    "pca=PCA()\n",
    "X_full=np.vstack([X_train_prep,X_test_prep])\n",
    "pca_model=pca.fit(X_full)\n",
    "variance=pca_model.explained_variance_ratio_.cumsum()"
   ]
  },
  {
   "cell_type": "code",
   "execution_count": 56,
   "id": "5d14d7dd-61c0-4f08-96b9-bf70ddf4775d",
   "metadata": {},
   "outputs": [
    {
     "data": {
      "image/png": "[encoded data removed]",
      "text/plain": [
       "<Figure size 640x480 with 1 Axes>"
      ]
     },
     "metadata": {},
     "output_type": "display_data"
    }
   ],
   "source": [
    "plt.plot(range(1,pca.n_components_+1),variance)\n",
    "plt.xticks(range(1,pca.n_components_+1))\n",
    "plt.yticks(np.arange(0.0,1.1,0.1))\n",
    "plt.xlim(1,)\n",
    "plt.ylim(0,1.1)\n",
    "plt.ylabel(\"Cumulative Variance [%]\")\n",
    "plt.xlabel(\"Principal Components\")\n",
    "plt.tight_layout()\n",
    "plt.show()"
   ]
  },
  {
   "cell_type": "code",
   "execution_count": 57,
   "id": "54df37fc-1c11-4da0-83ec-6ca3e43390f9",
   "metadata": {},
   "outputs": [
    {
     "name": "stdout",
     "output_type": "stream",
     "text": [
      "11 components cover approx. 90% variance\n"
     ]
    }
   ],
   "source": [
    "var_threshold=0.91\n",
    "print(f\"{len(variance[variance<var_threshold])} components cover approx. {variance[variance<var_threshold][-1]*100:.0f}% variance\")"
   ]
  },
  {
   "cell_type": "code",
   "execution_count": 58,
   "id": "dbddccbd-9827-49e1-b77b-b3e3251c2694",
   "metadata": {},
   "outputs": [
    {
     "name": "stdout",
     "output_type": "stream",
     "text": [
      "ROC-AUC score:\n",
      "after dimensionality reduction:\t\t 0.832905982905983\n",
      "before dimensionality reduction:\t 0.9431149097815765\n"
     ]
    }
   ],
   "source": [
    "# re-train with reduced dimensions covering 90% variance\n",
    "pca_red=PCA(n_components=0.9)\n",
    "X_train_red=pca_red.fit_transform(X_train_prep)\n",
    "X_test_red=pca_red.transform(X_test_prep)\n",
    "final_model_red = RandomForestClassifier(\n",
    "        max_depth=study.best_params[\"rf_max_depth\"],\n",
    "        n_estimators=study.best_params[\"n_estimators\"])\n",
    "final_model_red.fit(X_train_red,y_train_prep)\n",
    "y_pred_red=final_model_red.predict(X_test_red)\n",
    "score_red=roc_auc_score(y_test_prep,y_pred_red)\n",
    "print(f\"ROC-AUC score:\\nafter dimensionality reduction:\\t\\t {score_red}\\nbefore dimensionality reduction:\\t {study.best_value}\")"
   ]
  }
 ],
 "metadata": {
  "kernelspec": {
   "display_name": "Python 3 (ipykernel)",
   "language": "python",
   "name": "python3"
  },
  "language_info": {
   "codemirror_mode": {
    "name": "ipython",
    "version": 3
   },
   "file_extension": ".py",
   "mimetype": "text/x-python",
   "name": "python",
   "nbconvert_exporter": "python",
   "pygments_lexer": "ipython3",
   "version": "3.12.7"
  }
 },
 "nbformat": 4,
 "nbformat_minor": 5
}
